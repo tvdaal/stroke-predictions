{
 "cells": [
  {
   "cell_type": "markdown",
   "id": "2bc581d3",
   "metadata": {},
   "source": [
    "# Stroke predictions"
   ]
  },
  {
   "cell_type": "markdown",
   "id": "dae05843",
   "metadata": {},
   "source": [
    "### Introduction"
   ]
  },
  {
   "cell_type": "markdown",
   "id": "80ec3ede",
   "metadata": {},
   "source": [
    "In this notebook we investigate stroke predictions. We will train various machine learning algorithms to predict occurrences of strokes for new patients. The one with the highest F$_1$-score, will be picked as our final model. The dataset has been taken from [Kaggle](https://www.kaggle.com/fedesoriano/stroke-prediction-dataset) and was sponsored by [fedesoriano](https://www.kaggle.com/fedesoriano)."
   ]
  },
  {
   "cell_type": "markdown",
   "id": "3e1d04f3",
   "metadata": {},
   "source": [
    "### Imports and settings"
   ]
  },
  {
   "cell_type": "code",
   "execution_count": 1,
   "id": "173685a3",
   "metadata": {},
   "outputs": [],
   "source": [
    "# Standard Python libraries:\n",
    "import sys\n",
    "import time\n",
    "from typing import List, Dict, Any, Union\n",
    "import warnings\n",
    "\n",
    "# Data processing and modeling:\n",
    "from imblearn.over_sampling import SMOTE\n",
    "import numpy as np\n",
    "import pandas as pd\n",
    "from sklearn.ensemble import RandomForestClassifier\n",
    "from sklearn.linear_model import LinearRegression\n",
    "from sklearn.linear_model import LogisticRegression\n",
    "from sklearn.metrics import confusion_matrix, accuracy_score, precision_score, recall_score, f1_score\n",
    "from sklearn.model_selection import train_test_split, cross_val_score, GridSearchCV\n",
    "from sklearn.naive_bayes import GaussianNB\n",
    "from sklearn.neighbors import KNeighborsClassifier\n",
    "from sklearn.neural_network import MLPClassifier\n",
    "from sklearn.preprocessing import StandardScaler\n",
    "from sklearn.svm import SVC\n",
    "from sklearn.tree import DecisionTreeClassifier\n",
    "\n",
    "# Data visualization:\n",
    "import matplotlib.pyplot as plt\n",
    "import seaborn as sns\n",
    "\n",
    "# Miscellaneous third-party libraries:\n",
    "from nptyping import NDArray\n",
    "\n",
    "# Settings:\n",
    "warnings.filterwarnings(\"ignore\")\n",
    "np.set_printoptions(threshold=sys.maxsize)\n",
    "pd.set_option(\"display.max_colwidth\", None)\n",
    "sns.set_theme()"
   ]
  },
  {
   "cell_type": "markdown",
   "id": "b709dd01",
   "metadata": {},
   "source": [
    "### Data parsing"
   ]
  },
  {
   "cell_type": "markdown",
   "id": "f0839c46",
   "metadata": {},
   "source": [
    "The variable *input_path* corresponds to the path of the input CSV file (the healtcare dataset). This file is converted to a pandas dataframe where each row corresponds to a unique patient."
   ]
  },
  {
   "cell_type": "code",
   "execution_count": 2,
   "id": "cc2f15aa",
   "metadata": {
    "scrolled": true
   },
   "outputs": [],
   "source": [
    "input_path = \"stroke_dataset.csv\"\n",
    "df = pd.read_csv(input_path)"
   ]
  },
  {
   "cell_type": "markdown",
   "id": "53237c99",
   "metadata": {},
   "source": [
    "Our dataframe contains the following columns:"
   ]
  },
  {
   "cell_type": "code",
   "execution_count": 3,
   "id": "30ed2478",
   "metadata": {},
   "outputs": [
    {
     "name": "stdout",
     "output_type": "stream",
     "text": [
      "<class 'pandas.core.frame.DataFrame'>\n",
      "RangeIndex: 5110 entries, 0 to 5109\n",
      "Data columns (total 12 columns):\n",
      " #   Column             Non-Null Count  Dtype  \n",
      "---  ------             --------------  -----  \n",
      " 0   id                 5110 non-null   int64  \n",
      " 1   gender             5110 non-null   object \n",
      " 2   age                5110 non-null   float64\n",
      " 3   hypertension       5110 non-null   int64  \n",
      " 4   heart_disease      5110 non-null   int64  \n",
      " 5   ever_married       5110 non-null   object \n",
      " 6   work_type          5110 non-null   object \n",
      " 7   residence_type     5110 non-null   object \n",
      " 8   avg_glucose_level  5110 non-null   float64\n",
      " 9   bmi                4909 non-null   float64\n",
      " 10  smoking_status     5110 non-null   object \n",
      " 11  stroke             5110 non-null   int64  \n",
      "dtypes: float64(3), int64(4), object(5)\n",
      "memory usage: 479.2+ KB\n"
     ]
    }
   ],
   "source": [
    "df.columns = df.columns.str.lower()\n",
    "df.info()"
   ]
  },
  {
   "cell_type": "code",
   "execution_count": 4,
   "id": "e8620205",
   "metadata": {},
   "outputs": [
    {
     "data": {
      "text/html": [
       "<div>\n",
       "<style scoped>\n",
       "    .dataframe tbody tr th:only-of-type {\n",
       "        vertical-align: middle;\n",
       "    }\n",
       "\n",
       "    .dataframe tbody tr th {\n",
       "        vertical-align: top;\n",
       "    }\n",
       "\n",
       "    .dataframe thead th {\n",
       "        text-align: right;\n",
       "    }\n",
       "</style>\n",
       "<table border=\"1\" class=\"dataframe\">\n",
       "  <thead>\n",
       "    <tr style=\"text-align: right;\">\n",
       "      <th></th>\n",
       "      <th>id</th>\n",
       "      <th>gender</th>\n",
       "      <th>age</th>\n",
       "      <th>hypertension</th>\n",
       "      <th>heart_disease</th>\n",
       "      <th>ever_married</th>\n",
       "      <th>work_type</th>\n",
       "      <th>residence_type</th>\n",
       "      <th>avg_glucose_level</th>\n",
       "      <th>bmi</th>\n",
       "      <th>smoking_status</th>\n",
       "      <th>stroke</th>\n",
       "    </tr>\n",
       "  </thead>\n",
       "  <tbody>\n",
       "    <tr>\n",
       "      <th>0</th>\n",
       "      <td>9046</td>\n",
       "      <td>Male</td>\n",
       "      <td>67.0</td>\n",
       "      <td>0</td>\n",
       "      <td>1</td>\n",
       "      <td>Yes</td>\n",
       "      <td>Private</td>\n",
       "      <td>Urban</td>\n",
       "      <td>228.69</td>\n",
       "      <td>36.6</td>\n",
       "      <td>formerly smoked</td>\n",
       "      <td>1</td>\n",
       "    </tr>\n",
       "    <tr>\n",
       "      <th>1</th>\n",
       "      <td>51676</td>\n",
       "      <td>Female</td>\n",
       "      <td>61.0</td>\n",
       "      <td>0</td>\n",
       "      <td>0</td>\n",
       "      <td>Yes</td>\n",
       "      <td>Self-employed</td>\n",
       "      <td>Rural</td>\n",
       "      <td>202.21</td>\n",
       "      <td>NaN</td>\n",
       "      <td>never smoked</td>\n",
       "      <td>1</td>\n",
       "    </tr>\n",
       "    <tr>\n",
       "      <th>2</th>\n",
       "      <td>31112</td>\n",
       "      <td>Male</td>\n",
       "      <td>80.0</td>\n",
       "      <td>0</td>\n",
       "      <td>1</td>\n",
       "      <td>Yes</td>\n",
       "      <td>Private</td>\n",
       "      <td>Rural</td>\n",
       "      <td>105.92</td>\n",
       "      <td>32.5</td>\n",
       "      <td>never smoked</td>\n",
       "      <td>1</td>\n",
       "    </tr>\n",
       "    <tr>\n",
       "      <th>3</th>\n",
       "      <td>60182</td>\n",
       "      <td>Female</td>\n",
       "      <td>49.0</td>\n",
       "      <td>0</td>\n",
       "      <td>0</td>\n",
       "      <td>Yes</td>\n",
       "      <td>Private</td>\n",
       "      <td>Urban</td>\n",
       "      <td>171.23</td>\n",
       "      <td>34.4</td>\n",
       "      <td>smokes</td>\n",
       "      <td>1</td>\n",
       "    </tr>\n",
       "    <tr>\n",
       "      <th>4</th>\n",
       "      <td>1665</td>\n",
       "      <td>Female</td>\n",
       "      <td>79.0</td>\n",
       "      <td>1</td>\n",
       "      <td>0</td>\n",
       "      <td>Yes</td>\n",
       "      <td>Self-employed</td>\n",
       "      <td>Rural</td>\n",
       "      <td>174.12</td>\n",
       "      <td>24.0</td>\n",
       "      <td>never smoked</td>\n",
       "      <td>1</td>\n",
       "    </tr>\n",
       "  </tbody>\n",
       "</table>\n",
       "</div>"
      ],
      "text/plain": [
       "      id  gender   age  hypertension  heart_disease ever_married  \\\n",
       "0   9046    Male  67.0             0              1          Yes   \n",
       "1  51676  Female  61.0             0              0          Yes   \n",
       "2  31112    Male  80.0             0              1          Yes   \n",
       "3  60182  Female  49.0             0              0          Yes   \n",
       "4   1665  Female  79.0             1              0          Yes   \n",
       "\n",
       "       work_type residence_type  avg_glucose_level   bmi   smoking_status  \\\n",
       "0        Private          Urban             228.69  36.6  formerly smoked   \n",
       "1  Self-employed          Rural             202.21   NaN     never smoked   \n",
       "2        Private          Rural             105.92  32.5     never smoked   \n",
       "3        Private          Urban             171.23  34.4           smokes   \n",
       "4  Self-employed          Rural             174.12  24.0     never smoked   \n",
       "\n",
       "   stroke  \n",
       "0       1  \n",
       "1       1  \n",
       "2       1  \n",
       "3       1  \n",
       "4       1  "
      ]
     },
     "execution_count": 4,
     "metadata": {},
     "output_type": "execute_result"
    }
   ],
   "source": [
    "df.head()"
   ]
  },
  {
   "cell_type": "markdown",
   "id": "e01243e6",
   "metadata": {},
   "source": [
    "The meanings of the columns are rather self-explanatory. There are eleven features in total, plus the label. The label is represented by the *stroke* column. Note that the *bmi* column has missing values, which is something that we will tackle later. Furthermore, a number of features are categorical rather than numerical. As most machine learning algorithms require numeric input, we will address this issue for each categorical feature individually."
   ]
  },
  {
   "cell_type": "markdown",
   "id": "6f8d29f0",
   "metadata": {},
   "source": [
    "### Data exploration and preprocessing"
   ]
  },
  {
   "cell_type": "markdown",
   "id": "afa47c92",
   "metadata": {},
   "source": [
    "In the following we will study each column in more detail. Besides exploratory analyses, we will also immediately perform most of the required preprocessing."
   ]
  },
  {
   "cell_type": "markdown",
   "id": "e5ec12e2",
   "metadata": {},
   "source": [
    "#### ID feature"
   ]
  },
  {
   "cell_type": "markdown",
   "id": "1d5140dd",
   "metadata": {},
   "source": [
    "Let's start with the *id* column. Since this column will not be relevant to predict strokes, we will simply drop it. However, before we remove it let us make sure that the dataset does not contain any duplicate IDs."
   ]
  },
  {
   "cell_type": "code",
   "execution_count": 5,
   "id": "8c5cb4a1",
   "metadata": {},
   "outputs": [],
   "source": [
    "df = df.drop_duplicates(subset=\"id\")\n",
    "df = df.drop([\"id\"], axis=1)"
   ]
  },
  {
   "cell_type": "markdown",
   "id": "2120f2d8",
   "metadata": {},
   "source": [
    "#### Gender feature"
   ]
  },
  {
   "cell_type": "markdown",
   "id": "5a394988",
   "metadata": {},
   "source": [
    "The *gender* column shows the following distribution:"
   ]
  },
  {
   "cell_type": "code",
   "execution_count": 6,
   "id": "91549c0d",
   "metadata": {},
   "outputs": [
    {
     "data": {
      "text/plain": [
       "Female    2994\n",
       "Male      2115\n",
       "Other        1\n",
       "Name: gender, dtype: int64"
      ]
     },
     "execution_count": 6,
     "metadata": {},
     "output_type": "execute_result"
    }
   ],
   "source": [
    "df[\"gender\"].value_counts()"
   ]
  },
  {
   "cell_type": "markdown",
   "id": "8ab60d4a",
   "metadata": {},
   "source": [
    "For simplicity, we will only consider two gender options. The *Other* value can be replaced by the majority vote, which is *Female*. Furthermore, we will convert gender into a numerical variable using binary encoding:"
   ]
  },
  {
   "cell_type": "code",
   "execution_count": 7,
   "id": "92d9fad8",
   "metadata": {},
   "outputs": [],
   "source": [
    "df[\"gender\"] = df[\"gender\"].replace([\"Other\"], \"Female\")\n",
    "gender_conversion = {\"Male\": 0, \"Female\": 1}\n",
    "df[\"gender\"] = df[\"gender\"].map(gender_conversion)\n",
    "df[\"gender\"] = df[\"gender\"].astype(int)"
   ]
  },
  {
   "cell_type": "markdown",
   "id": "9bb3f775",
   "metadata": {},
   "source": [
    "In the plot below we can see how gender affects the probability of getting a stroke:"
   ]
  },
  {
   "cell_type": "code",
   "execution_count": 8,
   "id": "376ddae9",
   "metadata": {},
   "outputs": [
    {
     "data": {
      "image/png": "[encoded data removed]",
      "text/plain": [
       "<Figure size 432x288 with 1 Axes>"
      ]
     },
     "metadata": {},
     "output_type": "display_data"
    }
   ],
   "source": [
    "plt.figure(figsize=(6,4))\n",
    "sns.barplot(x=\"gender\", y=\"stroke\", data=df)\n",
    "plt.xticks(list(gender_conversion.values()), list(gender_conversion.keys()))\n",
    "plt.xlabel(\"Gender\", fontweight=\"bold\")\n",
    "plt.ylabel(\"Stroke (mean)\", fontweight=\"bold\")\n",
    "plt.show()"
   ]
  },
  {
   "cell_type": "markdown",
   "id": "53d137a9",
   "metadata": {},
   "source": [
    "The wide, colored bars represent mean values and the black lines provide the boundaries of the 95% confidence interval. We note that there is no big differene between males and females."
   ]
  },
  {
   "cell_type": "markdown",
   "id": "eac7298a",
   "metadata": {},
   "source": [
    "#### Age feature"
   ]
  },
  {
   "cell_type": "markdown",
   "id": "18d963a7",
   "metadata": {},
   "source": [
    "Next up is the *age* column:"
   ]
  },
  {
   "cell_type": "code",
   "execution_count": 9,
   "id": "d861683c",
   "metadata": {},
   "outputs": [
    {
     "data": {
      "text/plain": [
       "count    5110.000000\n",
       "mean       43.226614\n",
       "std        22.612647\n",
       "min         0.080000\n",
       "25%        25.000000\n",
       "50%        45.000000\n",
       "75%        61.000000\n",
       "max        82.000000\n",
       "Name: age, dtype: float64"
      ]
     },
     "execution_count": 9,
     "metadata": {},
     "output_type": "execute_result"
    }
   ],
   "source": [
    "df[\"age\"].describe()"
   ]
  },
  {
   "cell_type": "markdown",
   "id": "511403c4",
   "metadata": {},
   "source": [
    "The correlation between age and having a stroke is as follows:"
   ]
  },
  {
   "cell_type": "code",
   "execution_count": 10,
   "id": "330a798f",
   "metadata": {},
   "outputs": [
    {
     "data": {
      "image/png": "[encoded data removed]",
      "text/plain": [
       "<Figure size 720x432 with 1 Axes>"
      ]
     },
     "metadata": {},
     "output_type": "display_data"
    }
   ],
   "source": [
    "plt.figure(figsize=(10,6))\n",
    "sns.histplot(df[df[\"stroke\"] == 0][\"age\"], binwidth=5, binrange=[0, 85], stat=\"probability\", color=\"limegreen\", label=\"No stroke\")\n",
    "sns.histplot(df[df[\"stroke\"] == 1][\"age\"], binwidth=5, binrange=[0, 85], stat=\"probability\", color=\"firebrick\", label=\"Stroke\")\n",
    "plt.xlabel(\"Age\", fontweight=\"bold\")\n",
    "plt.ylabel(\"Stroke (probability)\", fontweight=\"bold\")\n",
    "plt.legend()\n",
    "plt.show()"
   ]
  },
  {
   "cell_type": "markdown",
   "id": "42639b78",
   "metadata": {},
   "source": [
    "The sum of the bar heights for each scenario (stroke vs. no stroke) equals unity. We can infer that the chances of having a stroke significantly increase with age."
   ]
  },
  {
   "cell_type": "markdown",
   "id": "e534c74b",
   "metadata": {},
   "source": [
    "#### Hypertension feature"
   ]
  },
  {
   "cell_type": "markdown",
   "id": "3a3f7e27",
   "metadata": {},
   "source": [
    "The *hypertension* field takes on the values 0 (no hypertension) and 1 (hypertension): "
   ]
  },
  {
   "cell_type": "code",
   "execution_count": 11,
   "id": "2020219f",
   "metadata": {},
   "outputs": [
    {
     "data": {
      "text/plain": [
       "0    4612\n",
       "1     498\n",
       "Name: hypertension, dtype: int64"
      ]
     },
     "execution_count": 11,
     "metadata": {},
     "output_type": "execute_result"
    }
   ],
   "source": [
    "df[\"hypertension\"].value_counts()"
   ]
  },
  {
   "cell_type": "markdown",
   "id": "ef2899f3",
   "metadata": {},
   "source": [
    "The relation with *stroke* can be visualized as follows:"
   ]
  },
  {
   "cell_type": "code",
   "execution_count": 12,
   "id": "d051eb2a",
   "metadata": {},
   "outputs": [
    {
     "data": {
      "image/png": "[encoded data removed]",
      "text/plain": [
       "<Figure size 432x288 with 1 Axes>"
      ]
     },
     "metadata": {},
     "output_type": "display_data"
    }
   ],
   "source": [
    "hypertension_conversion = {\"No hypertension\": 0, \"Hypertension\": 1}\n",
    "plt.figure(figsize=(6,4))\n",
    "sns.barplot(x=\"hypertension\", y=\"stroke\", data=df)\n",
    "plt.xticks(list(hypertension_conversion.values()), list(hypertension_conversion.keys()))\n",
    "plt.xlabel(\"Hypertension\", fontweight=\"bold\")\n",
    "plt.ylabel(\"Stroke (mean)\", fontweight=\"bold\")\n",
    "plt.show()"
   ]
  },
  {
   "cell_type": "markdown",
   "id": "a0ab5b95",
   "metadata": {},
   "source": [
    "We note that patients with hypertension are more likely to experience a stroke."
   ]
  },
  {
   "cell_type": "markdown",
   "id": "093c38ef",
   "metadata": {},
   "source": [
    "#### Heart disease feature"
   ]
  },
  {
   "cell_type": "markdown",
   "id": "636922ba",
   "metadata": {},
   "source": [
    "The variable *heart_disease* is either 0 (no heart disease) or 1 (heart disease):"
   ]
  },
  {
   "cell_type": "code",
   "execution_count": 13,
   "id": "61a9b324",
   "metadata": {},
   "outputs": [
    {
     "data": {
      "text/plain": [
       "0    4834\n",
       "1     276\n",
       "Name: heart_disease, dtype: int64"
      ]
     },
     "execution_count": 13,
     "metadata": {},
     "output_type": "execute_result"
    }
   ],
   "source": [
    "df[\"heart_disease\"].value_counts()"
   ]
  },
  {
   "cell_type": "markdown",
   "id": "6db78bd3",
   "metadata": {},
   "source": [
    "The plot below shows the correlation between heart disease and strokes:"
   ]
  },
  {
   "cell_type": "code",
   "execution_count": 14,
   "id": "02ab145e",
   "metadata": {},
   "outputs": [
    {
     "data": {
      "image/png": "[encoded data removed]",
      "text/plain": [
       "<Figure size 432x288 with 1 Axes>"
      ]
     },
     "metadata": {},
     "output_type": "display_data"
    }
   ],
   "source": [
    "heart_conversion = {\"No heart disease\": 0, \"Heart disease\": 1}\n",
    "plt.figure(figsize=(6,4))\n",
    "sns.barplot(x=\"heart_disease\", y=\"stroke\", data=df)\n",
    "plt.xticks(list(heart_conversion.values()), list(heart_conversion.keys()))\n",
    "plt.xlabel(\"Heart disease\", fontweight=\"bold\")\n",
    "plt.ylabel(\"Stroke (mean)\", fontweight=\"bold\")\n",
    "plt.show()"
   ]
  },
  {
   "cell_type": "markdown",
   "id": "78576570",
   "metadata": {},
   "source": [
    "From this plot we infer that heart disease increases the chances of experiencing a stroke."
   ]
  },
  {
   "cell_type": "markdown",
   "id": "d4f21515",
   "metadata": {},
   "source": [
    "#### Ever married feature"
   ]
  },
  {
   "cell_type": "markdown",
   "id": "3808ca75",
   "metadata": {},
   "source": [
    "The column *ever_married* shows whether the patient has ever been married:"
   ]
  },
  {
   "cell_type": "code",
   "execution_count": 15,
   "id": "5aad08b6",
   "metadata": {},
   "outputs": [
    {
     "data": {
      "text/plain": [
       "Yes    3353\n",
       "No     1757\n",
       "Name: ever_married, dtype: int64"
      ]
     },
     "execution_count": 15,
     "metadata": {},
     "output_type": "execute_result"
    }
   ],
   "source": [
    "df[\"ever_married\"].value_counts()"
   ]
  },
  {
   "cell_type": "markdown",
   "id": "596b4907",
   "metadata": {},
   "source": [
    "To convert this feature to a numerical one, we can apply binary encoding:"
   ]
  },
  {
   "cell_type": "code",
   "execution_count": 16,
   "id": "1418d9d8",
   "metadata": {},
   "outputs": [],
   "source": [
    "married_conversion = {\"No\": 0, \"Yes\": 1}\n",
    "df[\"ever_married\"] = df[\"ever_married\"].map(married_conversion)\n",
    "df[\"ever_married\"] = df[\"ever_married\"].astype(int)"
   ]
  },
  {
   "cell_type": "markdown",
   "id": "1b7e7455",
   "metadata": {},
   "source": [
    "The distribution of this variable with respect to strokes is as follows:"
   ]
  },
  {
   "cell_type": "code",
   "execution_count": 17,
   "id": "24cb0d3d",
   "metadata": {},
   "outputs": [
    {
     "data": {
      "image/png": "[encoded data removed]",
      "text/plain": [
       "<Figure size 432x288 with 1 Axes>"
      ]
     },
     "metadata": {},
     "output_type": "display_data"
    }
   ],
   "source": [
    "plt.figure(figsize=(6,4))\n",
    "sns.barplot(x=\"ever_married\", y=\"stroke\", data=df)\n",
    "plt.xticks(list(married_conversion.values()), list(married_conversion.keys()))\n",
    "plt.xlabel(\"Ever married\", fontweight=\"bold\")\n",
    "plt.ylabel(\"Stroke (mean)\", fontweight=\"bold\")\n",
    "plt.show()"
   ]
  },
  {
   "cell_type": "markdown",
   "id": "98b9b7d7",
   "metadata": {},
   "source": [
    "It seems that marriage significantly increases the chances of having a stroke."
   ]
  },
  {
   "cell_type": "markdown",
   "id": "5080d58c",
   "metadata": {},
   "source": [
    "#### Work type feature"
   ]
  },
  {
   "cell_type": "markdown",
   "id": "777ea29a",
   "metadata": {},
   "source": [
    "Next, we have the column *work_type*. There are five possible values:"
   ]
  },
  {
   "cell_type": "code",
   "execution_count": 18,
   "id": "52ffaeee",
   "metadata": {},
   "outputs": [
    {
     "data": {
      "image/png": "[encoded data removed]",
      "text/plain": [
       "<Figure size 720x432 with 1 Axes>"
      ]
     },
     "metadata": {},
     "output_type": "display_data"
    }
   ],
   "source": [
    "plt.figure(figsize=(10,6))\n",
    "sns.barplot(x=\"work_type\", y=\"stroke\", data=df)\n",
    "plt.xlabel(\"Work type\", fontweight=\"bold\")\n",
    "plt.ylabel(\"Stroke (mean)\", fontweight=\"bold\")\n",
    "plt.show()"
   ]
  },
  {
   "cell_type": "markdown",
   "id": "6a1dfdf2",
   "metadata": {},
   "source": [
    "Note that *Private* and *Govt_job* have a similar impact on strokes. The same is true for *children* and *Never_worked*. For this reason, we can create three categories instead without loosing much information. Moreover, the fact that a patient is a child is actually redundant as it is already captured by the *age* field."
   ]
  },
  {
   "cell_type": "code",
   "execution_count": 19,
   "id": "39c8d64b",
   "metadata": {},
   "outputs": [
    {
     "data": {
      "text/plain": [
       "employed          3581\n",
       "self-employed      818\n",
       "never_employed     711\n",
       "Name: work_type, dtype: int64"
      ]
     },
     "execution_count": 19,
     "metadata": {},
     "output_type": "execute_result"
    }
   ],
   "source": [
    "df[\"work_type\"] = df[\"work_type\"].replace([\"Self-employed\"], \"self-employed\")\n",
    "df[\"work_type\"] = df[\"work_type\"].replace([\"Private\", \"Govt_job\"], \"employed\")\n",
    "df[\"work_type\"] = df[\"work_type\"].replace([\"children\", \"Never_worked\"], \"never_employed\")\n",
    "\n",
    "# Sanity check that children (up to age 12) are never employed:\n",
    "df.loc[df[\"age\"] < 13, \"work_type\"] = \"never_employed\"\n",
    "\n",
    "df[\"work_type\"].value_counts()"
   ]
  },
  {
   "cell_type": "markdown",
   "id": "dc3b8787",
   "metadata": {},
   "source": [
    "Since the work type categories are nominal, we can benefit from one-hot encoding (we  will drop one column to remove redundant information) to create a numerical variable:"
   ]
  },
  {
   "cell_type": "code",
   "execution_count": 20,
   "id": "d3503d50",
   "metadata": {},
   "outputs": [],
   "source": [
    "df_work_ohe = pd.get_dummies(df[\"work_type\"], prefix=\"work_type\", drop_first=True)\n",
    "df = pd.concat([df, df_work_ohe], axis=1)\n",
    "df = df.drop([\"work_type\"], axis=1)"
   ]
  },
  {
   "cell_type": "markdown",
   "id": "523b2eef",
   "metadata": {},
   "source": [
    "#### Residence type feature"
   ]
  },
  {
   "cell_type": "markdown",
   "id": "58bc51dc",
   "metadata": {},
   "source": [
    "For the *residence_type* field, the distribution is as follows:"
   ]
  },
  {
   "cell_type": "code",
   "execution_count": 21,
   "id": "f3b4369a",
   "metadata": {},
   "outputs": [
    {
     "data": {
      "text/plain": [
       "Urban    2596\n",
       "Rural    2514\n",
       "Name: residence_type, dtype: int64"
      ]
     },
     "execution_count": 21,
     "metadata": {},
     "output_type": "execute_result"
    }
   ],
   "source": [
    "df[\"residence_type\"].value_counts()"
   ]
  },
  {
   "cell_type": "markdown",
   "id": "218a0543",
   "metadata": {},
   "source": [
    "We can convert this categorical field to a numerical one using binary encoding:"
   ]
  },
  {
   "cell_type": "code",
   "execution_count": 22,
   "id": "05b801f9",
   "metadata": {},
   "outputs": [],
   "source": [
    "residence_conversion = {\"Rural\": 0, \"Urban\": 1}\n",
    "df[\"residence_type\"] = df[\"residence_type\"].map(residence_conversion)\n",
    "df[\"residence_type\"] = df[\"residence_type\"].astype(int)"
   ]
  },
  {
   "cell_type": "markdown",
   "id": "67ce838a",
   "metadata": {},
   "source": [
    "The plot below shows the relation of this variable with *stroke*:"
   ]
  },
  {
   "cell_type": "code",
   "execution_count": 23,
   "id": "d2e76063",
   "metadata": {},
   "outputs": [
    {
     "data": {
      "image/png": "[encoded data removed]",
      "text/plain": [
       "<Figure size 432x288 with 1 Axes>"
      ]
     },
     "metadata": {},
     "output_type": "display_data"
    }
   ],
   "source": [
    "plt.figure(figsize=(6,4))\n",
    "sns.barplot(x=\"residence_type\", y=\"stroke\", data=df)\n",
    "plt.xticks(list(residence_conversion.values()), list(residence_conversion.keys()))\n",
    "plt.xlabel(\"Residence type\", fontweight=\"bold\")\n",
    "plt.ylabel(\"Stroke (mean)\", fontweight=\"bold\")\n",
    "plt.show()"
   ]
  },
  {
   "cell_type": "markdown",
   "id": "5f1e29af",
   "metadata": {},
   "source": [
    "Residence type does seem to affect strokes much."
   ]
  },
  {
   "cell_type": "markdown",
   "id": "62e65fb4",
   "metadata": {},
   "source": [
    "#### Glucose level feature"
   ]
  },
  {
   "cell_type": "markdown",
   "id": "ae604972",
   "metadata": {},
   "source": [
    "The following column, *avg_glucose_level*, describes the average glucose level in mg/dL. Its statistical details read:"
   ]
  },
  {
   "cell_type": "code",
   "execution_count": 24,
   "id": "d5643612",
   "metadata": {},
   "outputs": [
    {
     "data": {
      "text/plain": [
       "count    5110.000000\n",
       "mean      106.147677\n",
       "std        45.283560\n",
       "min        55.120000\n",
       "25%        77.245000\n",
       "50%        91.885000\n",
       "75%       114.090000\n",
       "max       271.740000\n",
       "Name: avg_glucose_level, dtype: float64"
      ]
     },
     "execution_count": 24,
     "metadata": {},
     "output_type": "execute_result"
    }
   ],
   "source": [
    "df[\"avg_glucose_level\"].describe()"
   ]
  },
  {
   "cell_type": "markdown",
   "id": "6d947236",
   "metadata": {},
   "source": [
    "From the [Mayo Clinic](https://www.mayoclinic.org/diseases-conditions/diabetes/diagnosis-treatment/drc-20371451) we learn the following in relation to diabetes:\n",
    "\n",
    "> A blood sugar level less than 140 mg/dL is normal. A reading of more than 200 mg/dL after two hours indicates diabetes. A reading between 140 and 199 mg/dL indicates prediabetes.\n",
    "\n",
    "Glucose level and strokes are related as follows:"
   ]
  },
  {
   "cell_type": "code",
   "execution_count": 25,
   "id": "ec6fd164",
   "metadata": {},
   "outputs": [
    {
     "data": {
      "image/png": "[encoded data removed]",
      "text/plain": [
       "<Figure size 720x432 with 1 Axes>"
      ]
     },
     "metadata": {},
     "output_type": "display_data"
    }
   ],
   "source": [
    "plt.figure(figsize=(10,6))\n",
    "sns.histplot(df[df[\"stroke\"] == 0][\"avg_glucose_level\"], binwidth=10, binrange=[50, 280], stat=\"probability\", color=\"limegreen\", label=\"No stroke\")\n",
    "sns.histplot(df[df[\"stroke\"] == 1][\"avg_glucose_level\"], binwidth=10, binrange=[50, 280], stat=\"probability\", color=\"firebrick\", label=\"Stroke\")\n",
    "plt.xlabel(\"Average glucose level (mg/dL)\", fontweight=\"bold\")\n",
    "plt.ylabel(\"Stroke (probability)\", fontweight=\"bold\")\n",
    "plt.legend()\n",
    "plt.show()"
   ]
  },
  {
   "cell_type": "markdown",
   "id": "dcc3af70",
   "metadata": {},
   "source": [
    "From the above plot we infer that there is a (positive) relation between strokes and being (pre)diabetic."
   ]
  },
  {
   "cell_type": "markdown",
   "id": "aef80b6c",
   "metadata": {},
   "source": [
    "#### Smoking status feature"
   ]
  },
  {
   "cell_type": "markdown",
   "id": "9e287d0c",
   "metadata": {},
   "source": [
    "The next feature column is *smoking_status*. There are four possible values:"
   ]
  },
  {
   "cell_type": "code",
   "execution_count": 26,
   "id": "3fcac5ad",
   "metadata": {},
   "outputs": [
    {
     "data": {
      "image/png": "[encoded data removed]",
      "text/plain": [
       "<Figure size 720x432 with 1 Axes>"
      ]
     },
     "metadata": {},
     "output_type": "display_data"
    }
   ],
   "source": [
    "plt.figure(figsize=(10,6))\n",
    "sns.barplot(x=\"smoking_status\", y=\"stroke\", data=df)\n",
    "plt.xlabel(\"Smoking status\", fontweight=\"bold\")\n",
    "plt.ylabel(\"Stroke (mean)\", fontweight=\"bold\")\n",
    "plt.show()"
   ]
  },
  {
   "cell_type": "markdown",
   "id": "06af103b",
   "metadata": {},
   "source": [
    "Although smoking does not seem beneficial for your health, the relationship with strokes is not so clear from this plot due to the large confidence intervals.\n",
    "\n",
    "The value *Unknown* means that information on smoking status is unavailable. To decide on what to do with this, let us look at the number of occurrences:"
   ]
  },
  {
   "cell_type": "code",
   "execution_count": 27,
   "id": "6a3f3e0a",
   "metadata": {},
   "outputs": [
    {
     "data": {
      "text/plain": [
       "never smoked       1892\n",
       "Unknown            1544\n",
       "formerly smoked     885\n",
       "smokes              789\n",
       "Name: smoking_status, dtype: int64"
      ]
     },
     "execution_count": 27,
     "metadata": {},
     "output_type": "execute_result"
    }
   ],
   "source": [
    "df[\"smoking_status\"].value_counts()"
   ]
  },
  {
   "cell_type": "markdown",
   "id": "d3bb1fb8",
   "metadata": {},
   "source": [
    "Since *Unknown* occurs 1544 times in our dataset, it is best to leave it as a separate category rather than to replace it by guesses.\n",
    "\n",
    "We consider this variable to be nominal. For that reason we can apply one-hot encoding to convert it into a numerical feature:"
   ]
  },
  {
   "cell_type": "code",
   "execution_count": 28,
   "id": "b7e24479",
   "metadata": {},
   "outputs": [],
   "source": [
    "df_smoking_ohe = pd.get_dummies(df[\"smoking_status\"], prefix=\"smoking_status\", drop_first=True)\n",
    "df = pd.concat([df, df_smoking_ohe], axis=1)\n",
    "df = df.drop([\"smoking_status\"], axis=1)"
   ]
  },
  {
   "cell_type": "markdown",
   "id": "a9f1cd81",
   "metadata": {},
   "source": [
    "#### BMI feature"
   ]
  },
  {
   "cell_type": "markdown",
   "id": "d0a349e0",
   "metadata": {},
   "source": [
    "The next column is *bmi*, the body mass index (BMI) in kg/m$^2$. Its statistical details are as follows:"
   ]
  },
  {
   "cell_type": "code",
   "execution_count": 29,
   "id": "f996b00d",
   "metadata": {},
   "outputs": [
    {
     "data": {
      "text/plain": [
       "count    4909.000000\n",
       "mean       28.893237\n",
       "std         7.854067\n",
       "min        10.300000\n",
       "25%        23.500000\n",
       "50%        28.100000\n",
       "75%        33.100000\n",
       "max        97.600000\n",
       "Name: bmi, dtype: float64"
      ]
     },
     "execution_count": 29,
     "metadata": {},
     "output_type": "execute_result"
    }
   ],
   "source": [
    "df[\"bmi\"].describe()"
   ]
  },
  {
   "cell_type": "markdown",
   "id": "be388918",
   "metadata": {},
   "source": [
    "From the [CDC](https://www.cdc.gov/healthyweight/assessing/bmi/adult_bmi/index.html) we learn the following in relation to obesity:\n",
    "\n",
    "| BMI | Weight status |\n",
    "| ---: | :--- |\n",
    "| < 18.5 | Underweight |\n",
    "| 18.5 - 24.9 | Normal weight |\n",
    "| 25.0 - 29.9 | Overweight |\n",
    "| > 30.0 | Obese |\n",
    "\n",
    "From earlier we know that there are 201 missing values for this field. There are various ways to deal with this. The best option might be to infer those missing values from the other features using a regression model. For convenience, let us pick the easiest regression algorithm for this, i.e. linear regression:"
   ]
  },
  {
   "cell_type": "code",
   "execution_count": 30,
   "id": "bf270de0",
   "metadata": {},
   "outputs": [],
   "source": [
    "train_data = df.dropna()\n",
    "X_train = train_data.drop(\"bmi\", axis=1)\n",
    "y_train = train_data[\"bmi\"]\n",
    "\n",
    "test_data = df[df[\"bmi\"].isnull()]\n",
    "X_test = test_data.drop(\"bmi\", axis=1)\n",
    "\n",
    "model = LinearRegression()\n",
    "model.fit(X_train, y_train)\n",
    "y_test = model.predict(X_test)\n",
    "\n",
    "bmi_slice = df[\"bmi\"].copy()\n",
    "bmi_slice[np.isnan(bmi_slice)] = y_test\n",
    "df[\"bmi\"] = bmi_slice"
   ]
  },
  {
   "cell_type": "markdown",
   "id": "d96b0f8e",
   "metadata": {},
   "source": [
    "Now that our BMI values are complete, let us study the relationship with strokes:"
   ]
  },
  {
   "cell_type": "code",
   "execution_count": 31,
   "id": "2ec9896b",
   "metadata": {},
   "outputs": [
    {
     "data": {
      "image/png": "[encoded data removed]",
      "text/plain": [
       "<Figure size 720x432 with 1 Axes>"
      ]
     },
     "metadata": {},
     "output_type": "display_data"
    }
   ],
   "source": [
    "plt.figure(figsize=(10,6))\n",
    "sns.histplot(df[df[\"stroke\"] == 0][\"bmi\"], binwidth=2, binrange=[10, 100], stat=\"probability\", color=\"limegreen\", label=\"No stroke\")\n",
    "sns.histplot(df[df[\"stroke\"] == 1][\"bmi\"], binwidth=2, binrange=[10, 100], stat=\"probability\", color=\"firebrick\", label=\"Stroke\")\n",
    "plt.xlabel(\"BMI (kg/m2)\", fontweight=\"bold\")\n",
    "plt.ylabel(\"Stroke (probability)\", fontweight=\"bold\")\n",
    "plt.legend()\n",
    "plt.show()"
   ]
  },
  {
   "cell_type": "markdown",
   "id": "18784f78",
   "metadata": {},
   "source": [
    "The distributions for stroke and no stroke are fairly similar. However, strokes seem to be relatively common in the BMI range of 26-32 kg/m$^2$."
   ]
  },
  {
   "cell_type": "markdown",
   "id": "5743730d",
   "metadata": {},
   "source": [
    "#### Stroke label"
   ]
  },
  {
   "cell_type": "markdown",
   "id": "02c40d0c",
   "metadata": {},
   "source": [
    "Finally, we have the target column *stroke*. Its values refer to whether the patient has experienced a stroke (1) or not (0)."
   ]
  },
  {
   "cell_type": "code",
   "execution_count": 32,
   "id": "56cf3775",
   "metadata": {},
   "outputs": [
    {
     "data": {
      "text/plain": [
       "0    95.1%\n",
       "1     4.9%\n",
       "Name: stroke, dtype: object"
      ]
     },
     "execution_count": 32,
     "metadata": {},
     "output_type": "execute_result"
    }
   ],
   "source": [
    "df[\"stroke\"].value_counts(normalize=True).mul(100).round(1).astype(str) + '%'"
   ]
  },
  {
   "cell_type": "markdown",
   "id": "768940e9",
   "metadata": {},
   "source": [
    "We note that this dataset is extremely imbalanced. In fact, if our model would always predict 0 it would be correct 95% of the time! For this reason, accuracy will not be a suitable metric to measure model performance. Furthermore, in the next section we will try to balance our dataset more to avoid any model bias."
   ]
  },
  {
   "cell_type": "markdown",
   "id": "a34bb6f8",
   "metadata": {},
   "source": [
    "#### Wrap-up"
   ]
  },
  {
   "cell_type": "markdown",
   "id": "6a0709df",
   "metadata": {},
   "source": [
    "To conclude the preprocessing, let us verify that there are no longer any missing values and that all fields are numeric of nature:"
   ]
  },
  {
   "cell_type": "code",
   "execution_count": 33,
   "id": "453564d9",
   "metadata": {},
   "outputs": [
    {
     "name": "stdout",
     "output_type": "stream",
     "text": [
      "<class 'pandas.core.frame.DataFrame'>\n",
      "Int64Index: 5110 entries, 0 to 5109\n",
      "Data columns (total 14 columns):\n",
      " #   Column                          Non-Null Count  Dtype  \n",
      "---  ------                          --------------  -----  \n",
      " 0   gender                          5110 non-null   int64  \n",
      " 1   age                             5110 non-null   float64\n",
      " 2   hypertension                    5110 non-null   int64  \n",
      " 3   heart_disease                   5110 non-null   int64  \n",
      " 4   ever_married                    5110 non-null   int64  \n",
      " 5   residence_type                  5110 non-null   int64  \n",
      " 6   avg_glucose_level               5110 non-null   float64\n",
      " 7   bmi                             5110 non-null   float64\n",
      " 8   stroke                          5110 non-null   int64  \n",
      " 9   work_type_never_employed        5110 non-null   uint8  \n",
      " 10  work_type_self-employed         5110 non-null   uint8  \n",
      " 11  smoking_status_formerly smoked  5110 non-null   uint8  \n",
      " 12  smoking_status_never smoked     5110 non-null   uint8  \n",
      " 13  smoking_status_smokes           5110 non-null   uint8  \n",
      "dtypes: float64(3), int64(6), uint8(5)\n",
      "memory usage: 553.2 KB\n"
     ]
    }
   ],
   "source": [
    "df.info()"
   ]
  },
  {
   "cell_type": "code",
   "execution_count": 34,
   "id": "aee3f461",
   "metadata": {},
   "outputs": [
    {
     "data": {
      "text/html": [
       "<div>\n",
       "<style scoped>\n",
       "    .dataframe tbody tr th:only-of-type {\n",
       "        vertical-align: middle;\n",
       "    }\n",
       "\n",
       "    .dataframe tbody tr th {\n",
       "        vertical-align: top;\n",
       "    }\n",
       "\n",
       "    .dataframe thead th {\n",
       "        text-align: right;\n",
       "    }\n",
       "</style>\n",
       "<table border=\"1\" class=\"dataframe\">\n",
       "  <thead>\n",
       "    <tr style=\"text-align: right;\">\n",
       "      <th></th>\n",
       "      <th>gender</th>\n",
       "      <th>age</th>\n",
       "      <th>hypertension</th>\n",
       "      <th>heart_disease</th>\n",
       "      <th>ever_married</th>\n",
       "      <th>residence_type</th>\n",
       "      <th>avg_glucose_level</th>\n",
       "      <th>bmi</th>\n",
       "      <th>stroke</th>\n",
       "      <th>work_type_never_employed</th>\n",
       "      <th>work_type_self-employed</th>\n",
       "      <th>smoking_status_formerly smoked</th>\n",
       "      <th>smoking_status_never smoked</th>\n",
       "      <th>smoking_status_smokes</th>\n",
       "    </tr>\n",
       "  </thead>\n",
       "  <tbody>\n",
       "    <tr>\n",
       "      <th>0</th>\n",
       "      <td>0</td>\n",
       "      <td>67.0</td>\n",
       "      <td>0</td>\n",
       "      <td>1</td>\n",
       "      <td>1</td>\n",
       "      <td>1</td>\n",
       "      <td>228.69</td>\n",
       "      <td>36.600000</td>\n",
       "      <td>1</td>\n",
       "      <td>0</td>\n",
       "      <td>0</td>\n",
       "      <td>1</td>\n",
       "      <td>0</td>\n",
       "      <td>0</td>\n",
       "    </tr>\n",
       "    <tr>\n",
       "      <th>1</th>\n",
       "      <td>1</td>\n",
       "      <td>61.0</td>\n",
       "      <td>0</td>\n",
       "      <td>0</td>\n",
       "      <td>1</td>\n",
       "      <td>0</td>\n",
       "      <td>202.21</td>\n",
       "      <td>31.158272</td>\n",
       "      <td>1</td>\n",
       "      <td>0</td>\n",
       "      <td>1</td>\n",
       "      <td>0</td>\n",
       "      <td>1</td>\n",
       "      <td>0</td>\n",
       "    </tr>\n",
       "    <tr>\n",
       "      <th>2</th>\n",
       "      <td>0</td>\n",
       "      <td>80.0</td>\n",
       "      <td>0</td>\n",
       "      <td>1</td>\n",
       "      <td>1</td>\n",
       "      <td>0</td>\n",
       "      <td>105.92</td>\n",
       "      <td>32.500000</td>\n",
       "      <td>1</td>\n",
       "      <td>0</td>\n",
       "      <td>0</td>\n",
       "      <td>0</td>\n",
       "      <td>1</td>\n",
       "      <td>0</td>\n",
       "    </tr>\n",
       "    <tr>\n",
       "      <th>3</th>\n",
       "      <td>1</td>\n",
       "      <td>49.0</td>\n",
       "      <td>0</td>\n",
       "      <td>0</td>\n",
       "      <td>1</td>\n",
       "      <td>1</td>\n",
       "      <td>171.23</td>\n",
       "      <td>34.400000</td>\n",
       "      <td>1</td>\n",
       "      <td>0</td>\n",
       "      <td>0</td>\n",
       "      <td>0</td>\n",
       "      <td>0</td>\n",
       "      <td>1</td>\n",
       "    </tr>\n",
       "    <tr>\n",
       "      <th>4</th>\n",
       "      <td>1</td>\n",
       "      <td>79.0</td>\n",
       "      <td>1</td>\n",
       "      <td>0</td>\n",
       "      <td>1</td>\n",
       "      <td>0</td>\n",
       "      <td>174.12</td>\n",
       "      <td>24.000000</td>\n",
       "      <td>1</td>\n",
       "      <td>0</td>\n",
       "      <td>1</td>\n",
       "      <td>0</td>\n",
       "      <td>1</td>\n",
       "      <td>0</td>\n",
       "    </tr>\n",
       "  </tbody>\n",
       "</table>\n",
       "</div>"
      ],
      "text/plain": [
       "   gender   age  hypertension  heart_disease  ever_married  residence_type  \\\n",
       "0       0  67.0             0              1             1               1   \n",
       "1       1  61.0             0              0             1               0   \n",
       "2       0  80.0             0              1             1               0   \n",
       "3       1  49.0             0              0             1               1   \n",
       "4       1  79.0             1              0             1               0   \n",
       "\n",
       "   avg_glucose_level        bmi  stroke  work_type_never_employed  \\\n",
       "0             228.69  36.600000       1                         0   \n",
       "1             202.21  31.158272       1                         0   \n",
       "2             105.92  32.500000       1                         0   \n",
       "3             171.23  34.400000       1                         0   \n",
       "4             174.12  24.000000       1                         0   \n",
       "\n",
       "   work_type_self-employed  smoking_status_formerly smoked  \\\n",
       "0                        0                               1   \n",
       "1                        1                               0   \n",
       "2                        0                               0   \n",
       "3                        0                               0   \n",
       "4                        1                               0   \n",
       "\n",
       "   smoking_status_never smoked  smoking_status_smokes  \n",
       "0                            0                      0  \n",
       "1                            1                      0  \n",
       "2                            1                      0  \n",
       "3                            0                      1  \n",
       "4                            1                      0  "
      ]
     },
     "execution_count": 34,
     "metadata": {},
     "output_type": "execute_result"
    }
   ],
   "source": [
    "df.head()"
   ]
  },
  {
   "cell_type": "markdown",
   "id": "1f576858",
   "metadata": {},
   "source": [
    "### Model building"
   ]
  },
  {
   "cell_type": "markdown",
   "id": "653388dc",
   "metadata": {},
   "source": [
    "Now that we have almost fully preprocessed our dataset, we can try to model it with various machine learning algorithms. First, we will split the data into training and test sets. After the split we will perform a few more preprocessing steps. Then quickly train and test various different algorithms to see which perform best. The best ones will be examined in more detail to further improve the predictions."
   ]
  },
  {
   "cell_type": "markdown",
   "id": "0b4c75c5",
   "metadata": {},
   "source": [
    "#### Train-test split"
   ]
  },
  {
   "cell_type": "markdown",
   "id": "87fa554d",
   "metadata": {},
   "source": [
    "First, we make a train-test split of the data:"
   ]
  },
  {
   "cell_type": "code",
   "execution_count": 35,
   "id": "0acc6319",
   "metadata": {},
   "outputs": [],
   "source": [
    "X = df.drop([\"stroke\"], axis=1)\n",
    "y = df[\"stroke\"]\n",
    "X_train, X_test, y_train, y_test = train_test_split(X, y, test_size=0.2, random_state=0)"
   ]
  },
  {
   "cell_type": "markdown",
   "id": "808391e6",
   "metadata": {},
   "source": [
    "Let us take a look at the distribution of the target label:"
   ]
  },
  {
   "cell_type": "code",
   "execution_count": 36,
   "id": "ffac5a9a",
   "metadata": {},
   "outputs": [
    {
     "data": {
      "text/plain": [
       "0    3893\n",
       "1     195\n",
       "Name: stroke, dtype: int64"
      ]
     },
     "execution_count": 36,
     "metadata": {},
     "output_type": "execute_result"
    }
   ],
   "source": [
    "y_train.value_counts()"
   ]
  },
  {
   "cell_type": "markdown",
   "id": "00f5a44a",
   "metadata": {},
   "source": [
    "Since our dataset is highly imbalanced, there is a risk that our models will be biased toward predicting no stroke. To combat this issue, we can apply an oversampling technique called SMOTE, which is short for Synthetic Minority Oversampling Technique. This technique makes use of the K-nearest neighbors algorithm to synthesize more data for the minority class. After applying SMOTE to the training set, the stroke vs. no-stroke rows are equally balanced."
   ]
  },
  {
   "cell_type": "code",
   "execution_count": 37,
   "id": "d7c2a60d",
   "metadata": {},
   "outputs": [
    {
     "data": {
      "text/plain": [
       "0    3893\n",
       "1    3893\n",
       "Name: stroke, dtype: int64"
      ]
     },
     "execution_count": 37,
     "metadata": {},
     "output_type": "execute_result"
    }
   ],
   "source": [
    "oversampler = SMOTE(random_state=0)\n",
    "X_train, y_train = oversampler.fit_resample(X_train, y_train)\n",
    "y_train.value_counts()"
   ]
  },
  {
   "cell_type": "markdown",
   "id": "e33722b9",
   "metadata": {},
   "source": [
    "Next, we apply standardization (meaning zero mean and unit variance) to all features (i.e. *X_train* and *X_test*) to ensure that all data 'lives' at the same scale:"
   ]
  },
  {
   "cell_type": "code",
   "execution_count": 38,
   "id": "c5ad668a",
   "metadata": {},
   "outputs": [],
   "source": [
    "scaler = StandardScaler()\n",
    "feature_sets = [scaler.fit_transform(feature_set) for feature_set in [X_train, X_test]]    \n",
    "X_train = feature_sets[0]\n",
    "X_test = feature_sets[1]"
   ]
  },
  {
   "cell_type": "markdown",
   "id": "0d066c2a",
   "metadata": {},
   "source": [
    "Before we start training, it is good practice to verify the dimensions of the data:"
   ]
  },
  {
   "cell_type": "code",
   "execution_count": 39,
   "id": "d929209d",
   "metadata": {},
   "outputs": [
    {
     "name": "stdout",
     "output_type": "stream",
     "text": [
      "Dimensions of the training set:\n",
      "\n",
      "Features: (7786, 13) \n",
      "Labels: (7786,)\n",
      "\n",
      "Dimensions of the test set:\n",
      "\n",
      "Features: (1022, 13) \n",
      "Labels: (1022,)\n"
     ]
    }
   ],
   "source": [
    "y_train = np.array(y_train)\n",
    "print(\"Dimensions of the training set:\\n\")\n",
    "print(\"Features:\", X_train.shape, \"\\nLabels:\", y_train.shape)\n",
    "\n",
    "y_test = np.array(y_test)\n",
    "print(\"\\nDimensions of the test set:\\n\")\n",
    "print(\"Features:\", X_test.shape, \"\\nLabels:\", y_test.shape)"
   ]
  },
  {
   "cell_type": "markdown",
   "id": "fec84312",
   "metadata": {},
   "source": [
    "#### Naive modeling"
   ]
  },
  {
   "cell_type": "markdown",
   "id": "afc17dcd",
   "metadata": {},
   "source": [
    "Using the Scikit-learn library, we can quickly try many different machine learning algorithms and select the best one. To this end, we define a function that we can invoke for each algorithm that calculates the mean F$_1$-score that results from cross validation:"
   ]
  },
  {
   "cell_type": "code",
   "execution_count": 40,
   "id": "6fe7e01b",
   "metadata": {},
   "outputs": [],
   "source": [
    "def cross_validation(\n",
    "        algorithm: Any, \n",
    "        X_train: NDArray[float], \n",
    "        y_train: NDArray[int], \n",
    ") -> Dict[str, float]:\n",
    "    \"\"\"Performs and assesses cross validation for a given machine learning algorithm.\n",
    "    \n",
    "    The performance metric is the F1-score.\n",
    "    \n",
    "    Args:\n",
    "        algorithm: The Scikit-learn algorithm class.\n",
    "        X_train: The input for training.\n",
    "        y_train: The labels for training.\n",
    "    \n",
    "    Returns:\n",
    "        The mean and standard deviation for the F1-score.\n",
    "    \"\"\"\n",
    "    \n",
    "    cross_val_scores = cross_val_score(algorithm, X_train, y_train, cv=5, scoring=\"f1\")\n",
    "    f1_mean = round(cross_val_scores.mean(), 3)\n",
    "    f1_std = round(cross_val_scores.std(), 3)\n",
    "    results = {\"Mean\": f1_mean, \"Standard deviation\": f1_std}\n",
    "\n",
    "    return results"
   ]
  },
  {
   "cell_type": "markdown",
   "id": "27860b0f",
   "metadata": {},
   "source": [
    "Let us now collect all algorithms that we want to try out. In this subsection we perform a 'quick and dirty' analysis using the Scikit-learn default settings for the algorithms."
   ]
  },
  {
   "cell_type": "code",
   "execution_count": 41,
   "id": "9dab1ebf",
   "metadata": {},
   "outputs": [],
   "source": [
    "algorithms = {\n",
    "    \"Gaussian naive Bayes\": GaussianNB(),\n",
    "    \"K-nearest neighbors\": KNeighborsClassifier(),\n",
    "    \"Support vector machine\": SVC(),\n",
    "    \"Logistic regression\": LogisticRegression(),\n",
    "    \"Multilayer perceptron\": MLPClassifier(random_state=0),\n",
    "    \"Decision tree\": DecisionTreeClassifier(random_state=0),\n",
    "    \"Random forest\": RandomForestClassifier(random_state=0),\n",
    "}"
   ]
  },
  {
   "cell_type": "markdown",
   "id": "afa0267d",
   "metadata": {},
   "source": [
    "Next, we can perform cross validation for all these algorithms. We collect the mean and standard deviation for all F$_1$-scores. The results are as follows:"
   ]
  },
  {
   "cell_type": "code",
   "execution_count": 42,
   "id": "64b23edd",
   "metadata": {
    "scrolled": false
   },
   "outputs": [
    {
     "name": "stdout",
     "output_type": "stream",
     "text": [
      "\n",
      "GAUSSIAN NAIVE BAYES\n",
      "Duration: \t0.09 seconds\n",
      "F1-score: \t0.739 ± 0.004\n",
      "\n",
      "K-NEAREST NEIGHBORS\n",
      "Duration: \t1.54 seconds\n",
      "F1-score: \t0.913 ± 0.027\n",
      "\n",
      "SUPPORT VECTOR MACHINE\n",
      "Duration: \t10.39 seconds\n",
      "F1-score: \t0.896 ± 0.029\n",
      "\n",
      "LOGISTIC REGRESSION\n",
      "Duration: \t0.26 seconds\n",
      "F1-score: \t0.861 ± 0.035\n",
      "\n",
      "MULTILAYER PERCEPTRON\n",
      "Duration: \t30.68 seconds\n",
      "F1-score: \t0.913 ± 0.032\n",
      "\n",
      "DECISION TREE\n",
      "Duration: \t0.14 seconds\n",
      "F1-score: \t0.918 ± 0.021\n",
      "\n",
      "RANDOM FOREST\n",
      "Duration: \t4.03 seconds\n",
      "F1-score: \t0.948 ± 0.027\n"
     ]
    }
   ],
   "source": [
    "cv_results = []\n",
    "for name, algorithm in algorithms.items():\n",
    "    start_time = time.time()\n",
    "    results = cross_validation(algorithm, X_train, y_train)\n",
    "    elapsed_time = round(time.time() - start_time, 2)\n",
    "    f1_mean = results[\"Mean\"]\n",
    "    f1_std = results[\"Standard deviation\"]\n",
    "    cv_results.append((name, f1_mean))\n",
    "    print(\"\\n{}\\nDuration: \\t{} seconds\\nF1-score: \\t{} ± {}\".format(name.upper(), elapsed_time, f1_mean, f1_std))"
   ]
  },
  {
   "cell_type": "markdown",
   "id": "50099af0",
   "metadata": {},
   "source": [
    "To select the most suitable algorithms, let us sort them by their (mean) F$_1$-scores:"
   ]
  },
  {
   "cell_type": "code",
   "execution_count": 43,
   "id": "35789fd9",
   "metadata": {},
   "outputs": [
    {
     "data": {
      "text/html": [
       "<div>\n",
       "<style scoped>\n",
       "    .dataframe tbody tr th:only-of-type {\n",
       "        vertical-align: middle;\n",
       "    }\n",
       "\n",
       "    .dataframe tbody tr th {\n",
       "        vertical-align: top;\n",
       "    }\n",
       "\n",
       "    .dataframe thead th {\n",
       "        text-align: right;\n",
       "    }\n",
       "</style>\n",
       "<table border=\"1\" class=\"dataframe\">\n",
       "  <thead>\n",
       "    <tr style=\"text-align: right;\">\n",
       "      <th></th>\n",
       "      <th>Model</th>\n",
       "      <th>F1-score</th>\n",
       "    </tr>\n",
       "  </thead>\n",
       "  <tbody>\n",
       "    <tr>\n",
       "      <th>0</th>\n",
       "      <td>Random forest</td>\n",
       "      <td>0.948</td>\n",
       "    </tr>\n",
       "    <tr>\n",
       "      <th>1</th>\n",
       "      <td>Decision tree</td>\n",
       "      <td>0.918</td>\n",
       "    </tr>\n",
       "    <tr>\n",
       "      <th>2</th>\n",
       "      <td>K-nearest neighbors</td>\n",
       "      <td>0.913</td>\n",
       "    </tr>\n",
       "    <tr>\n",
       "      <th>3</th>\n",
       "      <td>Multilayer perceptron</td>\n",
       "      <td>0.913</td>\n",
       "    </tr>\n",
       "    <tr>\n",
       "      <th>4</th>\n",
       "      <td>Support vector machine</td>\n",
       "      <td>0.896</td>\n",
       "    </tr>\n",
       "    <tr>\n",
       "      <th>5</th>\n",
       "      <td>Logistic regression</td>\n",
       "      <td>0.861</td>\n",
       "    </tr>\n",
       "    <tr>\n",
       "      <th>6</th>\n",
       "      <td>Gaussian naive Bayes</td>\n",
       "      <td>0.739</td>\n",
       "    </tr>\n",
       "  </tbody>\n",
       "</table>\n",
       "</div>"
      ],
      "text/plain": [
       "                    Model  F1-score\n",
       "0           Random forest     0.948\n",
       "1           Decision tree     0.918\n",
       "2     K-nearest neighbors     0.913\n",
       "3   Multilayer perceptron     0.913\n",
       "4  Support vector machine     0.896\n",
       "5     Logistic regression     0.861\n",
       "6    Gaussian naive Bayes     0.739"
      ]
     },
     "execution_count": 43,
     "metadata": {},
     "output_type": "execute_result"
    }
   ],
   "source": [
    "sorted_cv_results = sorted(cv_results, key=lambda x: x[1], reverse=True)\n",
    "pd.DataFrame(sorted_cv_results, columns=[\"Model\", \"F1-score\"])"
   ]
  },
  {
   "cell_type": "markdown",
   "id": "0db0400c",
   "metadata": {},
   "source": [
    "The four best models are the random forest (RF), decision tree (DT), K-nearest neighbors (KNN), and multilayer perceptron (MLP) models. An RF in general performs better than a DT as an RF essentially averages a number of DTs through ensemling to improve generalizability. For this reason, we will discard the DT model and only continue with the RF, KNN, and MLP models."
   ]
  },
  {
   "cell_type": "markdown",
   "id": "07eb75d5",
   "metadata": {},
   "source": [
    "#### Improved modeling"
   ]
  },
  {
   "cell_type": "markdown",
   "id": "a020464f",
   "metadata": {},
   "source": [
    "In this subsection we aim to improve the RF, KNN, and MLP models. To this end, we can perform hyperparameter grid searches to optimize the models. For convenience, let us define the following functoin that facilitates grid searches:"
   ]
  },
  {
   "cell_type": "code",
   "execution_count": 44,
   "id": "02c28861",
   "metadata": {},
   "outputs": [],
   "source": [
    "def grid_search(\n",
    "        algorithm: Any, \n",
    "        parameters: Dict[str, List[Any]],\n",
    "        X_train: NDArray[float], \n",
    "        y_train: NDArray[int], \n",
    ") -> Dict[str, Union[float, Dict[str, Any]]]:\n",
    "    \"\"\"Performs a grid search through algorithms to find the best hyperparameters.\n",
    "    \n",
    "   The best parameters are those that maximize the F1-score using cross validation.\n",
    "    \n",
    "    Args:\n",
    "        algorithm: The Scikit-learn algorithm class.\n",
    "        parameters: A grid of hyperparameters that the algorithm will loop through.\n",
    "        X_train: The input for training.\n",
    "        y_train: The labels for training.\n",
    "    \n",
    "    Returns:\n",
    "        The best F1-score and the corresponding hyperparameter settings.\n",
    "    \"\"\"\n",
    "    \n",
    "    clf = GridSearchCV(algorithm, parameters, cv=5, scoring=\"f1\")\n",
    "    clf.fit(X_train, y_train)\n",
    "    best_f1 = round(clf.best_score_, 3)\n",
    "    best_parameters = clf.best_params_\n",
    "    results = {\"F1-score\": best_f1, \"Parameters\": best_parameters}\n",
    "\n",
    "    return results"
   ]
  },
  {
   "cell_type": "markdown",
   "id": "14a69e11",
   "metadata": {},
   "source": [
    "Let us now define the hyperparameters that we would like to try:"
   ]
  },
  {
   "cell_type": "code",
   "execution_count": 45,
   "id": "79420e59",
   "metadata": {},
   "outputs": [],
   "source": [
    "knn_parameters = {\n",
    "    \"n_neighbors\": [2, 3, 5, 8, 13],\n",
    "    \"weights\": [\"uniform\", \"distance\"],\n",
    "    \"algorithm\": [\"ball_tree\", \"kd_tree\", \"brute\"],\n",
    "    \"p\": [1, 2],\n",
    "}\n",
    "mlp_parameters = {\n",
    "    \"hidden_layer_sizes\": [(8,), (13,), (21,), (8, 8,), (13, 13,), (21, 21,)],\n",
    "    \"solver\": [\"adam\", \"lbfgs\"],\n",
    "    \"alpha\": [0.001, 0.01, 0.1, 1.0],\n",
    "    \"random_state\": [0],\n",
    "}\n",
    "rf_parameters = {\n",
    "    \"n_estimators\": [50, 100, 150], \n",
    "    \"criterion\": [\"gini\", \"entropy\"],\n",
    "    \"max_depth\": [None, 3, 5, 8],\n",
    "    \"min_samples_split\": [2, 3, 5, 8],\n",
    "    \"random_state\": [0],\n",
    "}\n",
    "\n",
    "settings = {\n",
    "    \"K-nearest neighbors\": (KNeighborsClassifier(), knn_parameters),\n",
    "    \"Multilayer perceptron\": (MLPClassifier(), mlp_parameters),\n",
    "    \"Random forest\": (RandomForestClassifier(), rf_parameters),\n",
    "}"
   ]
  },
  {
   "cell_type": "markdown",
   "id": "311ae9a5",
   "metadata": {},
   "source": [
    "Now we are ready to perform the grid search. For each algorithm, we collect the best F$_1$-scores and corresponding hyperparameters. The results are as follows:"
   ]
  },
  {
   "cell_type": "code",
   "execution_count": 46,
   "id": "1b083c01",
   "metadata": {},
   "outputs": [
    {
     "name": "stdout",
     "output_type": "stream",
     "text": [
      "\n",
      "K-NEAREST NEIGHBORS\n",
      "Duration: \t\t59.3 seconds\n",
      "Best F1-score: \t\t0.935\n",
      "Hyperparameters: \t{'algorithm': 'ball_tree', 'n_neighbors': 2, 'p': 1, 'weights': 'uniform'}\n",
      "\n",
      "MULTILAYER PERCEPTRON\n",
      "Duration: \t\t918.89 seconds\n",
      "Best F1-score: \t\t0.924\n",
      "Hyperparameters: \t{'alpha': 1.0, 'hidden_layer_sizes': (21, 21), 'random_state': 0, 'solver': 'lbfgs'}\n",
      "\n",
      "RANDOM FOREST\n",
      "Duration: \t\t226.49 seconds\n",
      "Best F1-score: \t\t0.951\n",
      "Hyperparameters: \t{'criterion': 'entropy', 'max_depth': None, 'min_samples_split': 2, 'n_estimators': 100, 'random_state': 0}\n"
     ]
    }
   ],
   "source": [
    "search_results = []\n",
    "for name, grid in settings.items():\n",
    "    algorithm = grid[0]\n",
    "    parameters = grid[1]\n",
    "    start_time = time.time()\n",
    "    results = grid_search(algorithm, parameters, X_train, y_train)\n",
    "    elapsed_time = round(time.time() - start_time, 2)\n",
    "    best_f1_score = results[\"F1-score\"]\n",
    "    best_parameters = results[\"Parameters\"]\n",
    "    search_results.append((name, best_f1_score, best_parameters))\n",
    "    print(\"\\n{}\\nDuration: \\t\\t{} seconds\\nBest F1-score: \\t\\t{}\\nHyperparameters: \\t{}\".format(name.upper(), elapsed_time, best_f1_score, best_parameters))"
   ]
  },
  {
   "cell_type": "markdown",
   "id": "f1ee6861",
   "metadata": {},
   "source": [
    "To select the most suitable algorithm, let us sort them by their (mean) F$_1$-scores:"
   ]
  },
  {
   "cell_type": "code",
   "execution_count": 52,
   "id": "dbd0f625",
   "metadata": {},
   "outputs": [
    {
     "data": {
      "text/html": [
       "<div>\n",
       "<style scoped>\n",
       "    .dataframe tbody tr th:only-of-type {\n",
       "        vertical-align: middle;\n",
       "    }\n",
       "\n",
       "    .dataframe tbody tr th {\n",
       "        vertical-align: top;\n",
       "    }\n",
       "\n",
       "    .dataframe thead th {\n",
       "        text-align: right;\n",
       "    }\n",
       "</style>\n",
       "<table border=\"1\" class=\"dataframe\">\n",
       "  <thead>\n",
       "    <tr style=\"text-align: right;\">\n",
       "      <th></th>\n",
       "      <th>Model</th>\n",
       "      <th>F1-score</th>\n",
       "      <th>Hyperparameters</th>\n",
       "    </tr>\n",
       "  </thead>\n",
       "  <tbody>\n",
       "    <tr>\n",
       "      <th>0</th>\n",
       "      <td>Random forest</td>\n",
       "      <td>0.951</td>\n",
       "      <td>{'criterion': 'entropy', 'max_depth': None, 'min_samples_split': 2, 'n_estimators': 100, 'random_state': 0}</td>\n",
       "    </tr>\n",
       "    <tr>\n",
       "      <th>1</th>\n",
       "      <td>K-nearest neighbors</td>\n",
       "      <td>0.935</td>\n",
       "      <td>{'algorithm': 'ball_tree', 'n_neighbors': 2, 'p': 1, 'weights': 'uniform'}</td>\n",
       "    </tr>\n",
       "    <tr>\n",
       "      <th>2</th>\n",
       "      <td>Multilayer perceptron</td>\n",
       "      <td>0.924</td>\n",
       "      <td>{'alpha': 1.0, 'hidden_layer_sizes': (21, 21), 'random_state': 0, 'solver': 'lbfgs'}</td>\n",
       "    </tr>\n",
       "  </tbody>\n",
       "</table>\n",
       "</div>"
      ],
      "text/plain": [
       "                   Model  F1-score  \\\n",
       "0          Random forest     0.951   \n",
       "1    K-nearest neighbors     0.935   \n",
       "2  Multilayer perceptron     0.924   \n",
       "\n",
       "                                                                                               Hyperparameters  \n",
       "0  {'criterion': 'entropy', 'max_depth': None, 'min_samples_split': 2, 'n_estimators': 100, 'random_state': 0}  \n",
       "1                                   {'algorithm': 'ball_tree', 'n_neighbors': 2, 'p': 1, 'weights': 'uniform'}  \n",
       "2                         {'alpha': 1.0, 'hidden_layer_sizes': (21, 21), 'random_state': 0, 'solver': 'lbfgs'}  "
      ]
     },
     "execution_count": 52,
     "metadata": {},
     "output_type": "execute_result"
    }
   ],
   "source": [
    "sorted_search_results = sorted(search_results, key=lambda x: x[1], reverse=True)\n",
    "pd.DataFrame(sorted_search_results, columns=[\"Model\", \"F1-score\", \"Hyperparameters\"])"
   ]
  },
  {
   "cell_type": "markdown",
   "id": "7c0d6650",
   "metadata": {},
   "source": [
    "All three models perform well based on the F$_1$-score. However, from this improved analysis we learn that an RF model is most suitable. A nice thing about RFs is that we can easily infer what features are most important in coming to a stroke prediction. Studying the features this way is also a good sanity check with respect to the exploratory analysis we performed earlier."
   ]
  },
  {
   "cell_type": "code",
   "execution_count": null,
   "id": "82fbf6c3",
   "metadata": {},
   "outputs": [],
   "source": [
    "random_forest = RandomForestClassifier(n_estimators=100, 150], \n",
    "    \"criterion\": [\"gini\", \"entropy\"],\n",
    "    \"max_depth\": [None, 3, 5, 8],\n",
    "    \"min_samples_split\": [2, 3, 5, 8],\n",
    "    \"random_state\": [0],)\n",
    "random_forest.fit(X_train, Y_train)\n",
    "\n",
    "Y_prediction = random_forest.predict(X_test)\n",
    "\n",
    "random_forest.score(X_train, Y_train)\n",
    "acc_random_forest = round(random_forest.score(X_train, Y_train) * 100, 2)\n",
    "print(round(acc_random_forest,2,), \"%\")\n",
    "\n",
    "importances = pd.DataFrame({'feature':X_train.columns,'importance':np.round(random_forest.feature_importances_,3)})\n",
    "importances = importances.sort_values('importance',ascending=False).set_index('feature')"
   ]
  },
  {
   "cell_type": "code",
   "execution_count": 48,
   "id": "84235111",
   "metadata": {},
   "outputs": [],
   "source": [
    "# def train_test_model_old(\n",
    "#         name: str,\n",
    "#         algorithm: Any, \n",
    "#         X_train: NDArray[float], \n",
    "#         y_train: NDArray[int], \n",
    "#         X_test: NDArray[float], \n",
    "#         y_test: NDArray[int],\n",
    "# ) -> Dict[str, Union[float, NDArray[int], str]]:\n",
    "#     \"\"\"Trains and tests a model for a given machine learning algorithm.\n",
    "    \n",
    "#     Args:\n",
    "#         name: The name of the algorithm.\n",
    "#         algorithm: The Scikit-learn algorithm class.\n",
    "#         X_train: The input for training.\n",
    "#         y_train: The labels for training.\n",
    "#         X_test: The input for testing.\n",
    "#         y_test: The labels for testing.\n",
    "    \n",
    "#     Returns:\n",
    "#         The confusion matrix and the derived scores of accuracy, precision, recall, and F1.\n",
    "#     \"\"\"\n",
    "    \n",
    "#     cross_val_scores = cross_val_score(algorithm, X_train, y_train, cv=5, scoring=\"f1\")\n",
    "#     cross_val_f1 = cross_val_scores.mean()\n",
    "#     print(\"Cross validation mean scores:\", cross_val_f1)\n",
    "    \n",
    "#     classifier = algorithm.fit(X_train, y_train)\n",
    "#     y_pred = classifier.predict(X_test)\n",
    "\n",
    "#     accuracy = round(accuracy_score(y_test, y_pred), 3)\n",
    "#     precision = round(precision_score(y_test, y_pred), 3)\n",
    "#     recall = round(recall_score(y_test, y_pred), 3)\n",
    "#     f1 = round(f1_score(y_test, y_pred), 3)    \n",
    "#     conf_mat = confusion_matrix(y_test, y_pred)\n",
    "#     results = {\n",
    "#         \"Confusion matrix\": conf_mat,\n",
    "#         \"Accuracy\": accuracy, \n",
    "#         \"Precision\": precision, \n",
    "#         \"Recall\": recall, \n",
    "#         \"F1-score\": f1,\n",
    "#     }\n",
    "\n",
    "#     return results"
   ]
  },
  {
   "cell_type": "code",
   "execution_count": 49,
   "id": "c5265aae",
   "metadata": {
    "scrolled": true
   },
   "outputs": [],
   "source": [
    "# model_results = []\n",
    "# for name, algorithm in algorithms.items():\n",
    "#     start_time = time.time()\n",
    "#     results = train_test_model(name, algorithm, X_train, y_train, X_test, y_test)\n",
    "#     model_results.append((name, results[\"F1-score\"]))\n",
    "#     elapsed_time = round(time.time() - start_time, 2)\n",
    "#     print(\"{}\\nDuration: {} seconds\\n\\nConfusion matrix: \\n{}\\n\\nAccuracy: {}, Precision: {}, Recall: {}, F1-score: {}\\n\\n\".format(name.upper(), elapsed_time, results[\"Confusion matrix\"], results[\"Accuracy\"], results[\"Precision\"], results[\"Recall\"], results[\"F1-score\"]))"
   ]
  },
  {
   "cell_type": "markdown",
   "id": "5d071269",
   "metadata": {},
   "source": [
    "From left to right, the first row of the confusion matrix contains the True Negatives (TNs) and the False Positives (FPs). The second row, again from left to right, contains the False Negatives (FNs) and the True Positives (TPs). As the diagonal contains the correct predictions, our goal is to make this matrix as diagonal as possible. A high precision means that the FPs are suppressed, while a high recall corresponds to a low number of FNs. Ideally, both of these metrics are large. Both quantities are combined in the F$_1$-score, which is the harmonic mean of precision and recall. For this reason, the F$_1$-score will be most suitable to assess model performance."
   ]
  },
  {
   "cell_type": "code",
   "execution_count": null,
   "id": "f2976869",
   "metadata": {},
   "outputs": [],
   "source": []
  }
 ],
 "metadata": {
  "kernelspec": {
   "display_name": "Python (py39)",
   "language": "python",
   "name": "py39"
  },
  "language_info": {
   "codemirror_mode": {
    "name": "ipython",
    "version": 3
   },
   "file_extension": ".py",
   "mimetype": "text/x-python",
   "name": "python",
   "nbconvert_exporter": "python",
   "pygments_lexer": "ipython3",
   "version": "3.9.2"
  }
 },
 "nbformat": 4,
 "nbformat_minor": 5
}
