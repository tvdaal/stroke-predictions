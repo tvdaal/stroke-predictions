{
 "cells": [
  {
   "cell_type": "markdown",
   "id": "40c1d49c",
   "metadata": {},
   "source": [
    "# Stroke predictions"
   ]
  },
  {
   "cell_type": "code",
   "execution_count": 1,
   "id": "3f791376",
   "metadata": {},
   "outputs": [],
   "source": [
    "import csv\n",
    "import numpy as np\n",
    "import matplotlib.pyplot as plt\n",
    "import pandas as pd\n",
    "from pandas import DataFrame\n",
    "import statistics\n",
    "from typing import Optional, List, Tuple, Dict, Any, Callable, Iterable\n",
    "import warnings\n",
    "warnings.filterwarnings(\"ignore\")"
   ]
  },
  {
   "cell_type": "markdown",
   "id": "9a1c3a51",
   "metadata": {},
   "source": [
    "The variable 'input_path' corresponds to the path of the input CSV file (the healtcare dataset). This file is converted to a pandas dataframe where each row corresponds to a patient."
   ]
  },
  {
   "cell_type": "code",
   "execution_count": 2,
   "id": "5cac1b1d",
   "metadata": {
    "scrolled": true
   },
   "outputs": [
    {
     "data": {
      "text/plain": [
       "5110"
      ]
     },
     "execution_count": 2,
     "metadata": {},
     "output_type": "execute_result"
    }
   ],
   "source": [
    "input_path = \"stroke_data.csv\"\n",
    "df = pd.read_csv(input_path)\n",
    "len(df)"
   ]
  },
  {
   "cell_type": "markdown",
   "id": "d33281ed",
   "metadata": {},
   "source": [
    "Let's study the different columns:"
   ]
  },
  {
   "cell_type": "code",
   "execution_count": 3,
   "id": "ecec9344",
   "metadata": {},
   "outputs": [
    {
     "data": {
      "text/plain": [
       "id;gender;age;hypertension;heart_disease;ever_married;work_type;Residence_type;avg_glucose_level;bmi;smoking_status;stroke\n",
       "10018;Male;19;0;0;No;Private;Rural;56.33;29.4;Unknown;0                                                                       1\n",
       "53990;Male;64;0;1;Yes;Private;Urban;211.35;30.7;formerly smoked;0                                                             1\n",
       "54067;Female;26;0;0;No;Private;Rural;67.21;21.8;formerly smoked;0                                                             1\n",
       "54065;Female;45;0;0;Yes;Private;Urban;91.04;21.1;never smoked;0                                                               1\n",
       "54058;Female;22;0;0;No;Private;Urban;56.84;29.9;smokes;0                                                                      1\n",
       "                                                                                                                             ..\n",
       "32317;Female;41;0;0;Yes;Private;Urban;80.72;34.1;smokes;0                                                                     1\n",
       "32270;Male;53;0;0;Yes;Private;Rural;198.24;38.1;never smoked;0                                                                1\n",
       "32257;Female;47;0;0;Yes;Private;Urban;210.95;50.1;Unknown;0                                                                   1\n",
       "32252;Female;19;0;0;No;Private;Rural;72.52;32;Unknown;0                                                                       1\n",
       "99;Female;31;0;0;No;Private;Urban;108.89;52.3;Unknown;0                                                                       1\n",
       "Length: 5110, dtype: int64"
      ]
     },
     "execution_count": 3,
     "metadata": {},
     "output_type": "execute_result"
    }
   ],
   "source": [
    "df.value_counts()"
   ]
  },
  {
   "cell_type": "code",
   "execution_count": null,
   "id": "0092ea02",
   "metadata": {},
   "outputs": [],
   "source": []
  }
 ],
 "metadata": {
  "kernelspec": {
   "display_name": "Python 3",
   "language": "python",
   "name": "python3"
  },
  "language_info": {
   "codemirror_mode": {
    "name": "ipython",
    "version": 3
   },
   "file_extension": ".py",
   "mimetype": "text/x-python",
   "name": "python",
   "nbconvert_exporter": "python",
   "pygments_lexer": "ipython3",
   "version": "3.9.2"
  }
 },
 "nbformat": 4,
 "nbformat_minor": 5
}
