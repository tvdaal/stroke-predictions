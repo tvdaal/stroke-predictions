{
 "cells": [
  {
   "cell_type": "markdown",
   "id": "2bc581d3",
   "metadata": {},
   "source": [
    "# Stroke predictions"
   ]
  },
  {
   "cell_type": "markdown",
   "id": "dae05843",
   "metadata": {},
   "source": [
    "### Introduction"
   ]
  },
  {
   "cell_type": "markdown",
   "id": "80ec3ede",
   "metadata": {},
   "source": [
    "Blabla"
   ]
  },
  {
   "cell_type": "markdown",
   "id": "3e1d04f3",
   "metadata": {},
   "source": [
    "### Imports and settings"
   ]
  },
  {
   "cell_type": "code",
   "execution_count": 1,
   "id": "173685a3",
   "metadata": {},
   "outputs": [],
   "source": [
    "from nptyping import NDArray\n",
    "import numpy as np\n",
    "import pandas as pd\n",
    "import seaborn as sns\n",
    "from sklearn.linear_model import LinearRegression\n",
    "from sklearn.linear_model import LogisticRegression\n",
    "from sklearn.metrics import precision_score, recall_score, f1_score\n",
    "from sklearn.model_selection import train_test_split\n",
    "from sklearn.neural_network import MLPClassifier\n",
    "from sklearn.preprocessing import StandardScaler\n",
    "import sys\n",
    "import time\n",
    "from typing import Dict, Any\n",
    "import warnings\n",
    "\n",
    "np.set_printoptions(threshold=sys.maxsize)\n",
    "warnings.filterwarnings(\"ignore\")"
   ]
  },
  {
   "cell_type": "markdown",
   "id": "b709dd01",
   "metadata": {},
   "source": [
    "### Data parsing"
   ]
  },
  {
   "cell_type": "markdown",
   "id": "f0839c46",
   "metadata": {},
   "source": [
    "The variable *input_path* corresponds to the path of the input CSV file (the healtcare dataset). This file is converted to a pandas dataframe where each row corresponds to a unique patient:"
   ]
  },
  {
   "cell_type": "code",
   "execution_count": 2,
   "id": "cc2f15aa",
   "metadata": {
    "scrolled": true
   },
   "outputs": [],
   "source": [
    "input_path = \"stroke_dataset.csv\"\n",
    "df = pd.read_csv(input_path)"
   ]
  },
  {
   "cell_type": "markdown",
   "id": "53237c99",
   "metadata": {},
   "source": [
    "Our dataframe contains the following columns:"
   ]
  },
  {
   "cell_type": "code",
   "execution_count": 3,
   "id": "30ed2478",
   "metadata": {},
   "outputs": [
    {
     "name": "stdout",
     "output_type": "stream",
     "text": [
      "<class 'pandas.core.frame.DataFrame'>\n",
      "RangeIndex: 5110 entries, 0 to 5109\n",
      "Data columns (total 12 columns):\n",
      " #   Column             Non-Null Count  Dtype  \n",
      "---  ------             --------------  -----  \n",
      " 0   id                 5110 non-null   int64  \n",
      " 1   gender             5110 non-null   object \n",
      " 2   age                5110 non-null   float64\n",
      " 3   hypertension       5110 non-null   int64  \n",
      " 4   heart_disease      5110 non-null   int64  \n",
      " 5   ever_married       5110 non-null   object \n",
      " 6   work_type          5110 non-null   object \n",
      " 7   residence_type     5110 non-null   object \n",
      " 8   avg_glucose_level  5110 non-null   float64\n",
      " 9   bmi                4909 non-null   float64\n",
      " 10  smoking_status     5110 non-null   object \n",
      " 11  stroke             5110 non-null   int64  \n",
      "dtypes: float64(3), int64(4), object(5)\n",
      "memory usage: 479.2+ KB\n"
     ]
    }
   ],
   "source": [
    "df.columns= df.columns.str.lower()\n",
    "df.info()"
   ]
  },
  {
   "cell_type": "markdown",
   "id": "e01243e6",
   "metadata": {},
   "source": [
    "The meanings of the columns are rather self-explanatory. There are 11 features in total, plus the label. The label is represented by the *stroke* column. Note that only the *bmi* column has missing values."
   ]
  },
  {
   "cell_type": "markdown",
   "id": "6f8d29f0",
   "metadata": {},
   "source": [
    "### Data exploration and preprocessing"
   ]
  },
  {
   "cell_type": "markdown",
   "id": "1d5140dd",
   "metadata": {},
   "source": [
    "In the following we will study each column in more detail. Let's start with the *id* column. Since this column will not be relevant to predict strokes, we will simply drop it:"
   ]
  },
  {
   "cell_type": "code",
   "execution_count": 4,
   "id": "8c5cb4a1",
   "metadata": {},
   "outputs": [],
   "source": [
    "df = df.drop([\"id\"], axis=1)"
   ]
  },
  {
   "cell_type": "markdown",
   "id": "5a394988",
   "metadata": {},
   "source": [
    "The *gender* column shows the following distribution:"
   ]
  },
  {
   "cell_type": "code",
   "execution_count": 5,
   "id": "91549c0d",
   "metadata": {},
   "outputs": [
    {
     "data": {
      "text/plain": [
       "Female    2994\n",
       "Male      2115\n",
       "Other        1\n",
       "Name: gender, dtype: int64"
      ]
     },
     "execution_count": 5,
     "metadata": {},
     "output_type": "execute_result"
    }
   ],
   "source": [
    "df[\"gender\"].value_counts()"
   ]
  },
  {
   "cell_type": "markdown",
   "id": "8ab60d4a",
   "metadata": {},
   "source": [
    "For simplicity, we will only consider two gender options. The *Other* value can be replaced by the majority vote, which is *Female*. Furthermore, we should convert gender into an integer:"
   ]
  },
  {
   "cell_type": "code",
   "execution_count": 6,
   "id": "92d9fad8",
   "metadata": {},
   "outputs": [
    {
     "data": {
      "text/plain": [
       "1    2995\n",
       "0    2115\n",
       "Name: gender, dtype: int64"
      ]
     },
     "execution_count": 6,
     "metadata": {},
     "output_type": "execute_result"
    }
   ],
   "source": [
    "df[\"gender\"] = df[\"gender\"].replace([\"Other\"], \"Female\")\n",
    "gender_conversion = {\"Male\": 0, \"Female\": 1}\n",
    "df[\"gender\"] = df[\"gender\"].map(gender_conversion)\n",
    "df[\"gender\"] = df[\"gender\"].astype(int)\n",
    "df[\"gender\"].value_counts()"
   ]
  },
  {
   "cell_type": "markdown",
   "id": "18d963a7",
   "metadata": {},
   "source": [
    "Next up is the *age* column:"
   ]
  },
  {
   "cell_type": "code",
   "execution_count": 7,
   "id": "d861683c",
   "metadata": {},
   "outputs": [
    {
     "data": {
      "text/plain": [
       "count    5110.000000\n",
       "mean       43.226614\n",
       "std        22.612647\n",
       "min         0.080000\n",
       "25%        25.000000\n",
       "50%        45.000000\n",
       "75%        61.000000\n",
       "max        82.000000\n",
       "Name: age, dtype: float64"
      ]
     },
     "execution_count": 7,
     "metadata": {},
     "output_type": "execute_result"
    }
   ],
   "source": [
    "df[\"age\"].describe()"
   ]
  },
  {
   "cell_type": "markdown",
   "id": "636922ba",
   "metadata": {},
   "source": [
    "The *hypertension* field takes on the values 0 (no hypertension) and 1 (hypertension). Similarly, *heart_disease* is either 0 (no heart disease) or 1 (heart disease). The distribution of these two variables is as follows:"
   ]
  },
  {
   "cell_type": "code",
   "execution_count": 8,
   "id": "61a9b324",
   "metadata": {},
   "outputs": [
    {
     "data": {
      "text/plain": [
       "hypertension  heart_disease\n",
       "0             0                4400\n",
       "1             0                 434\n",
       "0             1                 212\n",
       "1             1                  64\n",
       "dtype: int64"
      ]
     },
     "execution_count": 8,
     "metadata": {},
     "output_type": "execute_result"
    }
   ],
   "source": [
    "df[[\"hypertension\", \"heart_disease\"]].value_counts()"
   ]
  },
  {
   "cell_type": "markdown",
   "id": "3808ca75",
   "metadata": {},
   "source": [
    "The column *ever_married* shows whether the patient has ever been married:"
   ]
  },
  {
   "cell_type": "code",
   "execution_count": 9,
   "id": "5aad08b6",
   "metadata": {},
   "outputs": [
    {
     "data": {
      "text/plain": [
       "Yes    3353\n",
       "No     1757\n",
       "Name: ever_married, dtype: int64"
      ]
     },
     "execution_count": 9,
     "metadata": {},
     "output_type": "execute_result"
    }
   ],
   "source": [
    "df[\"ever_married\"].value_counts()"
   ]
  },
  {
   "cell_type": "markdown",
   "id": "596b4907",
   "metadata": {},
   "source": [
    "We can easily apply a binary encoding:"
   ]
  },
  {
   "cell_type": "code",
   "execution_count": 10,
   "id": "1418d9d8",
   "metadata": {},
   "outputs": [],
   "source": [
    "married_conversion = {\"No\": 0, \"Yes\": 1}\n",
    "df[\"ever_married\"] = df[\"ever_married\"].map(married_conversion)\n",
    "df[\"ever_married\"] = df[\"ever_married\"].astype(int)"
   ]
  },
  {
   "cell_type": "markdown",
   "id": "777ea29a",
   "metadata": {},
   "source": [
    "Next, we have the column *work_type*. There are 5 possible categories:"
   ]
  },
  {
   "cell_type": "code",
   "execution_count": 11,
   "id": "52ffaeee",
   "metadata": {},
   "outputs": [
    {
     "data": {
      "text/plain": [
       "<AxesSubplot:xlabel='work_type', ylabel='stroke'>"
      ]
     },
     "execution_count": 11,
     "metadata": {},
     "output_type": "execute_result"
    },
    {
     "data": {
      "image/png": "[encoded data removed]",
      "text/plain": [
       "<Figure size 432x288 with 1 Axes>"
      ]
     },
     "metadata": {
      "needs_background": "light"
     },
     "output_type": "display_data"
    }
   ],
   "source": [
    "sns.barplot(x='work_type', y='stroke', data=df)"
   ]
  },
  {
   "cell_type": "markdown",
   "id": "6a1dfdf2",
   "metadata": {},
   "source": [
    "In this plot, the mean values and 95% confidence intervals are shown for the different types of work. We note that *Private* and *Govt_job* have a similar impact on strokes. The same is true for *Children* and *Never_worked*. For this reason, we can create 3 categories instead without loosing much information. Moreover, the fact that a patient is a child is already captured by the *age* field."
   ]
  },
  {
   "cell_type": "code",
   "execution_count": 12,
   "id": "39c8d64b",
   "metadata": {},
   "outputs": [
    {
     "data": {
      "text/plain": [
       "employed          3581\n",
       "self-employed      818\n",
       "never_employed     711\n",
       "Name: work_type, dtype: int64"
      ]
     },
     "execution_count": 12,
     "metadata": {},
     "output_type": "execute_result"
    }
   ],
   "source": [
    "df[\"work_type\"] = df[\"work_type\"].replace([\"Self-employed\"], \"self-employed\")\n",
    "df[\"work_type\"] = df[\"work_type\"].replace([\"Private\", \"Govt_job\"], \"employed\")\n",
    "df[\"work_type\"] = df[\"work_type\"].replace([\"children\", \"Never_worked\"], \"never_employed\")\n",
    "\n",
    "# Sanity check that children (up to age 12) are never employed:\n",
    "df.loc[df[\"age\"] < 13, \"work_type\"] = \"never_employed\"\n",
    "\n",
    "df[\"work_type\"].value_counts()"
   ]
  },
  {
   "cell_type": "markdown",
   "id": "dc3b8787",
   "metadata": {},
   "source": [
    "Since the work type categories are nominal, we can benefit from one-hot encoding:"
   ]
  },
  {
   "cell_type": "code",
   "execution_count": 13,
   "id": "d3503d50",
   "metadata": {},
   "outputs": [],
   "source": [
    "df_work_ohe = pd.get_dummies(df[\"work_type\"], prefix=\"work_type\", drop_first=True)\n",
    "df = pd.concat([df, df_work_ohe], axis=1)\n",
    "df = df.drop([\"work_type\"], axis=1)"
   ]
  },
  {
   "cell_type": "markdown",
   "id": "58bc51dc",
   "metadata": {},
   "source": [
    "For the *residence_type* field, the distribution is as follows:"
   ]
  },
  {
   "cell_type": "code",
   "execution_count": 14,
   "id": "f3b4369a",
   "metadata": {},
   "outputs": [
    {
     "data": {
      "text/plain": [
       "Urban    2596\n",
       "Rural    2514\n",
       "Name: residence_type, dtype: int64"
      ]
     },
     "execution_count": 14,
     "metadata": {},
     "output_type": "execute_result"
    }
   ],
   "source": [
    "df[\"residence_type\"].value_counts()"
   ]
  },
  {
   "cell_type": "markdown",
   "id": "218a0543",
   "metadata": {},
   "source": [
    "We need to convert this categorical field to a numerical one:"
   ]
  },
  {
   "cell_type": "code",
   "execution_count": 15,
   "id": "05b801f9",
   "metadata": {},
   "outputs": [],
   "source": [
    "residence_conversion = {\"Rural\": 0, \"Urban\": 1}\n",
    "df[\"residence_type\"] = df[\"residence_type\"].map(residence_conversion)\n",
    "df[\"residence_type\"] = df[\"residence_type\"].astype(int)"
   ]
  },
  {
   "cell_type": "markdown",
   "id": "6d947236",
   "metadata": {},
   "source": [
    "The following column *avg_glucose_level* describes the average glucose level in mg/dL. From the [Mayo Clinic](https://www.mayoclinic.org/diseases-conditions/diabetes/diagnosis-treatment/drc-20371451) we learn the following in relation to diabetes:\n",
    "\n",
    "> A blood sugar level less than 140 mg/dL is normal. A reading of more than 200 mg/dL after two hours indicates diabetes. A reading between 140 and 199 mg/dL indicates prediabetes.\n",
    "\n",
    "Our glucose level distribution is as follows:"
   ]
  },
  {
   "cell_type": "code",
   "execution_count": 16,
   "id": "ec6fd164",
   "metadata": {},
   "outputs": [
    {
     "data": {
      "text/plain": [
       "count    5110.000000\n",
       "mean      106.147677\n",
       "std        45.283560\n",
       "min        55.120000\n",
       "25%        77.245000\n",
       "50%        91.885000\n",
       "75%       114.090000\n",
       "max       271.740000\n",
       "Name: avg_glucose_level, dtype: float64"
      ]
     },
     "execution_count": 16,
     "metadata": {},
     "output_type": "execute_result"
    }
   ],
   "source": [
    "df[\"avg_glucose_level\"].describe()"
   ]
  },
  {
   "cell_type": "markdown",
   "id": "9e287d0c",
   "metadata": {},
   "source": [
    "The next feature column is \"smoking_status\". The options are as follows:"
   ]
  },
  {
   "cell_type": "code",
   "execution_count": 17,
   "id": "6a3f3e0a",
   "metadata": {},
   "outputs": [
    {
     "data": {
      "text/plain": [
       "never smoked       1892\n",
       "Unknown            1544\n",
       "formerly smoked     885\n",
       "smokes              789\n",
       "Name: smoking_status, dtype: int64"
      ]
     },
     "execution_count": 17,
     "metadata": {},
     "output_type": "execute_result"
    }
   ],
   "source": [
    "df[\"smoking_status\"].value_counts()"
   ]
  },
  {
   "cell_type": "markdown",
   "id": "d3bb1fb8",
   "metadata": {},
   "source": [
    "The value *Unknown* means that this information is unavailable for this patient. Since it occurs 1544 times in our dataset, it is best to leave it as a separate category rather than to replace it by guesses. As this variable is somewhat ordinal, we can apply ordinal encoding:"
   ]
  },
  {
   "cell_type": "code",
   "execution_count": 18,
   "id": "b7e24479",
   "metadata": {},
   "outputs": [],
   "source": [
    "smoking_conversion = {\"never smoked\": 0, \"Unknown\": 1, \"formerly smoked\": 2, \"smokes\": 3}\n",
    "df[\"smoking_status\"] = df[\"smoking_status\"].map(smoking_conversion)\n",
    "df[\"smoking_status\"] = df[\"smoking_status\"].astype(int)"
   ]
  },
  {
   "cell_type": "markdown",
   "id": "be388918",
   "metadata": {},
   "source": [
    "The next column is *bmi*, the body mass index (BMI) in kg/m$^2$. From the [CDC](https://www.cdc.gov/healthyweight/assessing/bmi/adult_bmi/index.html) we learn the following in relation to obesity:\n",
    "\n",
    "| BMI | Weight status |\n",
    "| ---: | :--- |\n",
    "| < 18.5 | Underweight |\n",
    "| 18.5 - 24.9 | Normal weight |\n",
    "| 25.0 - 29.9 | Overweight |\n",
    "| > 30.0 | Obese |\n",
    "\n",
    "From earlier we know that there are 201 missing values for this field. We can infer those missing values by feeding the corresponding rows into a linear regression model (obtained by training on the entire remaining dataset): "
   ]
  },
  {
   "cell_type": "code",
   "execution_count": 19,
   "id": "7200b06c",
   "metadata": {},
   "outputs": [
    {
     "name": "stdout",
     "output_type": "stream",
     "text": [
      "<class 'pandas.core.frame.DataFrame'>\n",
      "RangeIndex: 5110 entries, 0 to 5109\n",
      "Data columns (total 12 columns):\n",
      " #   Column                    Non-Null Count  Dtype  \n",
      "---  ------                    --------------  -----  \n",
      " 0   gender                    5110 non-null   int64  \n",
      " 1   age                       5110 non-null   float64\n",
      " 2   hypertension              5110 non-null   int64  \n",
      " 3   heart_disease             5110 non-null   int64  \n",
      " 4   ever_married              5110 non-null   int64  \n",
      " 5   residence_type            5110 non-null   int64  \n",
      " 6   avg_glucose_level         5110 non-null   float64\n",
      " 7   bmi                       4909 non-null   float64\n",
      " 8   smoking_status            5110 non-null   int64  \n",
      " 9   stroke                    5110 non-null   int64  \n",
      " 10  work_type_never_employed  5110 non-null   uint8  \n",
      " 11  work_type_self-employed   5110 non-null   uint8  \n",
      "dtypes: float64(3), int64(7), uint8(2)\n",
      "memory usage: 409.3 KB\n"
     ]
    }
   ],
   "source": [
    "df.info()"
   ]
  },
  {
   "cell_type": "code",
   "execution_count": 20,
   "id": "bf270de0",
   "metadata": {},
   "outputs": [],
   "source": [
    "train_data = df.dropna()\n",
    "X_train = train_data.drop(\"bmi\", axis=1)\n",
    "y_train = train_data[\"bmi\"]\n",
    "\n",
    "test_data = df[df[\"bmi\"].isnull()]\n",
    "X_test = test_data.drop(\"bmi\", axis=1)\n",
    "\n",
    "model = LinearRegression()\n",
    "model.fit(X_train, y_train)\n",
    "y_test = model.predict(X_test)\n",
    "\n",
    "bmi_slice = df[\"bmi\"].copy()\n",
    "bmi_slice[np.isnan(bmi_slice)] = y_test\n",
    "df[\"bmi\"] = bmi_slice"
   ]
  },
  {
   "cell_type": "markdown",
   "id": "02c40d0c",
   "metadata": {},
   "source": [
    "Finally, we have the target column *stroke*. Its values refer to whether the patient has experienced a stroke (1) or not (0)."
   ]
  },
  {
   "cell_type": "code",
   "execution_count": 21,
   "id": "56cf3775",
   "metadata": {},
   "outputs": [
    {
     "data": {
      "text/plain": [
       "0    4861\n",
       "1     249\n",
       "Name: stroke, dtype: int64"
      ]
     },
     "execution_count": 21,
     "metadata": {},
     "output_type": "execute_result"
    }
   ],
   "source": [
    "df[\"stroke\"].value_counts()"
   ]
  },
  {
   "cell_type": "markdown",
   "id": "6a0709df",
   "metadata": {},
   "source": [
    "To conclude the preprocessing, let us verify that there are no longer any missing values and that all fields are numeric of nature:"
   ]
  },
  {
   "cell_type": "code",
   "execution_count": 22,
   "id": "453564d9",
   "metadata": {},
   "outputs": [
    {
     "name": "stdout",
     "output_type": "stream",
     "text": [
      "<class 'pandas.core.frame.DataFrame'>\n",
      "RangeIndex: 5110 entries, 0 to 5109\n",
      "Data columns (total 12 columns):\n",
      " #   Column                    Non-Null Count  Dtype  \n",
      "---  ------                    --------------  -----  \n",
      " 0   gender                    5110 non-null   int64  \n",
      " 1   age                       5110 non-null   float64\n",
      " 2   hypertension              5110 non-null   int64  \n",
      " 3   heart_disease             5110 non-null   int64  \n",
      " 4   ever_married              5110 non-null   int64  \n",
      " 5   residence_type            5110 non-null   int64  \n",
      " 6   avg_glucose_level         5110 non-null   float64\n",
      " 7   bmi                       5110 non-null   float64\n",
      " 8   smoking_status            5110 non-null   int64  \n",
      " 9   stroke                    5110 non-null   int64  \n",
      " 10  work_type_never_employed  5110 non-null   uint8  \n",
      " 11  work_type_self-employed   5110 non-null   uint8  \n",
      "dtypes: float64(3), int64(7), uint8(2)\n",
      "memory usage: 409.3 KB\n"
     ]
    }
   ],
   "source": [
    "df.info()"
   ]
  },
  {
   "cell_type": "markdown",
   "id": "1f576858",
   "metadata": {},
   "source": [
    "### Model building"
   ]
  },
  {
   "cell_type": "markdown",
   "id": "87fa554d",
   "metadata": {},
   "source": [
    "Now that we have prepared our dataset, we can try to model it with various machine learning algorithms. The one that will show the smallest error, will be picked as our final model.\n",
    "\n",
    "First, we make a train-test split of the data:"
   ]
  },
  {
   "cell_type": "code",
   "execution_count": 23,
   "id": "0acc6319",
   "metadata": {},
   "outputs": [],
   "source": [
    "X = df.drop([\"stroke\"], axis=1)\n",
    "y = df[\"stroke\"]\n",
    "X_train, X_test, y_train, y_test = train_test_split(X, y, test_size=0.2, random_state=0)"
   ]
  },
  {
   "cell_type": "markdown",
   "id": "e33722b9",
   "metadata": {},
   "source": [
    "Next, we apply standardization (zero mean and unit variance) to *X_train* and *X_test* to ensure that all data 'lives' at the same scale:"
   ]
  },
  {
   "cell_type": "code",
   "execution_count": 24,
   "id": "c5ad668a",
   "metadata": {},
   "outputs": [],
   "source": [
    "scaler = StandardScaler()\n",
    "feature_sets = [scaler.fit_transform(feature_set) for feature_set in [X_train, X_test]]    \n",
    "X_train = feature_sets[0]\n",
    "X_test = feature_sets[1]"
   ]
  },
  {
   "cell_type": "markdown",
   "id": "0d066c2a",
   "metadata": {},
   "source": [
    "Before we start model building, it is good practice to verify the dimensions of the data:"
   ]
  },
  {
   "cell_type": "code",
   "execution_count": 25,
   "id": "d929209d",
   "metadata": {},
   "outputs": [
    {
     "name": "stdout",
     "output_type": "stream",
     "text": [
      "Dimensions of the training set:\n",
      "\n",
      "Features: (4088, 11) \n",
      "Labels: (4088,)\n",
      "\n",
      "Dimensions of the test set:\n",
      "\n",
      "Features: (1022, 11) \n",
      "Labels: (1022,)\n"
     ]
    }
   ],
   "source": [
    "y_train = np.array(y_train)\n",
    "print(\"Dimensions of the training set:\\n\")\n",
    "print(\"Features:\", X_train.shape, \"\\nLabels:\", y_train.shape)\n",
    "\n",
    "y_test = np.array(y_test)\n",
    "print(\"\\nDimensions of the test set:\\n\")\n",
    "print(\"Features:\", X_test.shape, \"\\nLabels:\", y_test.shape)"
   ]
  },
  {
   "cell_type": "markdown",
   "id": "afc17dcd",
   "metadata": {},
   "source": [
    "Using the Scikit-learn library, we can quickly try many different machine learning algorithms and select the best one. To this end, we define a function that we can invoke for each algorithm to train and study the corresponding models:"
   ]
  },
  {
   "cell_type": "code",
   "execution_count": 26,
   "id": "6fe7e01b",
   "metadata": {},
   "outputs": [],
   "source": [
    "def train_test_model(\n",
    "        name: str,\n",
    "        algorithm: Any, \n",
    "        X_train: NDArray[float], \n",
    "        y_train: NDArray[int], \n",
    "        X_test: NDArray[float], \n",
    "        y_test: NDArray[int],\n",
    ") -> Dict[str, float]:\n",
    "    \"\"\"Trains and test a model for a given machine learning algorithm.\n",
    "    \n",
    "    Args:\n",
    "        name: The name of the algorithm.\n",
    "        algorithm: The Scikit-learn algorithm class.\n",
    "        X_train: The input for training.\n",
    "        y_train: The labels for training.\n",
    "        X_test: The input for testing.\n",
    "        y_test: The labels for testing.\n",
    "    \n",
    "    Return:\n",
    "        The precision, recall, and F1-score pertaining to the obtained model.\n",
    "    \"\"\"\n",
    "    \n",
    "    classifier = algorithm.fit(X_train, y_train)\n",
    "    y_pred = classifier.predict(X_test)\n",
    "\n",
    "    precision = round(precision_score(y_test, y_pred), 3)\n",
    "    recall = round(recall_score(y_test, y_pred), 3)\n",
    "    f1 = round(f1_score(y_test, y_pred), 3)\n",
    "    scores = {\"Precision\": precision, \"Recall\": recall, \"F1-score\": f1}\n",
    "    \n",
    "    return scores"
   ]
  },
  {
   "cell_type": "markdown",
   "id": "27860b0f",
   "metadata": {},
   "source": [
    "We can collect all the algorithms that we want to try out:"
   ]
  },
  {
   "cell_type": "code",
   "execution_count": 27,
   "id": "9dab1ebf",
   "metadata": {},
   "outputs": [],
   "source": [
    "algorithms = {\n",
    "    \"Logistic regression\": LogisticRegression(),\n",
    "    \"Multilayer perceptron\": MLPClassifier(solver=\"lbfgs\"),\n",
    "}"
   ]
  },
  {
   "cell_type": "markdown",
   "id": "afa0267d",
   "metadata": {},
   "source": [
    "In the following we train and test models pertaining to all provided algorithms:"
   ]
  },
  {
   "cell_type": "code",
   "execution_count": 28,
   "id": "c5265aae",
   "metadata": {},
   "outputs": [
    {
     "name": "stdout",
     "output_type": "stream",
     "text": [
      "Algorithm: Logistic regression\n",
      "Duration: 0.03 seconds\n",
      "Precision: 1.0, Recall: 0.019\n",
      "F1-score: 0.036\n",
      "\n",
      "Algorithm: Multilayer perceptron\n",
      "Duration: 1.5 seconds\n",
      "Precision: 0.118, Recall: 0.111\n",
      "F1-score: 0.114\n",
      "\n"
     ]
    }
   ],
   "source": [
    "model_results = []\n",
    "for name, algorithm in algorithms.items():\n",
    "    start_time = time.time()\n",
    "    scores = train_test_model(\n",
    "            name, algorithm, X_train, y_train, X_test, y_test\n",
    "    )\n",
    "    model_results.append((name, scores[\"F1-score\"]))\n",
    "    elapsed_time = round(time.time() - start_time, 2)\n",
    "    print(\"Algorithm: {}\\nDuration: {} seconds\\nPrecision: {}, Recall: {}\\nF1-score: {}\\n\".format(name, elapsed_time, scores[\"Precision\"], scores[\"Recall\"], scores[\"F1-score\"]))"
   ]
  },
  {
   "cell_type": "markdown",
   "id": "3b00bb60",
   "metadata": {},
   "source": [
    "From best to worse, our results are as follows:"
   ]
  },
  {
   "cell_type": "code",
   "execution_count": null,
   "id": "715c5aec",
   "metadata": {},
   "outputs": [],
   "source": []
  }
 ],
 "metadata": {
  "kernelspec": {
   "display_name": "Python (py39)",
   "language": "python",
   "name": "py39"
  },
  "language_info": {
   "codemirror_mode": {
    "name": "ipython",
    "version": 3
   },
   "file_extension": ".py",
   "mimetype": "text/x-python",
   "name": "python",
   "nbconvert_exporter": "python",
   "pygments_lexer": "ipython3",
   "version": "3.9.2"
  }
 },
 "nbformat": 4,
 "nbformat_minor": 5
}
