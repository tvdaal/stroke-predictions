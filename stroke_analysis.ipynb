{
 "cells": [
  {
   "cell_type": "markdown",
   "id": "2bc581d3",
   "metadata": {},
   "source": [
    "# Stroke predictions"
   ]
  },
  {
   "cell_type": "markdown",
   "id": "dae05843",
   "metadata": {},
   "source": [
    "### Introduction"
   ]
  },
  {
   "cell_type": "markdown",
   "id": "80ec3ede",
   "metadata": {},
   "source": [
    "Blabla"
   ]
  },
  {
   "cell_type": "markdown",
   "id": "3e1d04f3",
   "metadata": {},
   "source": [
    "### Imports and settings"
   ]
  },
  {
   "cell_type": "code",
   "execution_count": 1,
   "id": "173685a3",
   "metadata": {},
   "outputs": [],
   "source": [
    "from imblearn.over_sampling import SMOTE\n",
    "from nptyping import NDArray\n",
    "import numpy as np\n",
    "import pandas as pd\n",
    "import seaborn as sns\n",
    "from sklearn.ensemble import RandomForestClassifier\n",
    "from sklearn.linear_model import LinearRegression\n",
    "from sklearn.linear_model import LogisticRegression\n",
    "from sklearn.metrics import accuracy_score, precision_score, recall_score, f1_score, classification_report, confusion_matrix\n",
    "from sklearn.model_selection import train_test_split\n",
    "from sklearn.naive_bayes import GaussianNB\n",
    "from sklearn.neighbors import KNeighborsClassifier\n",
    "from sklearn.neural_network import MLPClassifier\n",
    "from sklearn.preprocessing import StandardScaler\n",
    "from sklearn.svm import SVC\n",
    "from sklearn.tree import DecisionTreeClassifier\n",
    "import sys\n",
    "import time\n",
    "from typing import Dict, Any, Union\n",
    "import warnings\n",
    "\n",
    "np.set_printoptions(threshold=sys.maxsize)\n",
    "warnings.filterwarnings(\"ignore\")"
   ]
  },
  {
   "cell_type": "markdown",
   "id": "b709dd01",
   "metadata": {},
   "source": [
    "### Data parsing"
   ]
  },
  {
   "cell_type": "markdown",
   "id": "f0839c46",
   "metadata": {},
   "source": [
    "The variable *input_path* corresponds to the path of the input CSV file (the healtcare dataset). This file is converted to a pandas dataframe where each row corresponds to a unique patient:"
   ]
  },
  {
   "cell_type": "code",
   "execution_count": 2,
   "id": "cc2f15aa",
   "metadata": {
    "scrolled": true
   },
   "outputs": [],
   "source": [
    "input_path = \"stroke_dataset.csv\"\n",
    "df = pd.read_csv(input_path)"
   ]
  },
  {
   "cell_type": "markdown",
   "id": "53237c99",
   "metadata": {},
   "source": [
    "Our dataframe contains the following columns:"
   ]
  },
  {
   "cell_type": "code",
   "execution_count": 3,
   "id": "30ed2478",
   "metadata": {},
   "outputs": [
    {
     "name": "stdout",
     "output_type": "stream",
     "text": [
      "<class 'pandas.core.frame.DataFrame'>\n",
      "RangeIndex: 5110 entries, 0 to 5109\n",
      "Data columns (total 12 columns):\n",
      " #   Column             Non-Null Count  Dtype  \n",
      "---  ------             --------------  -----  \n",
      " 0   id                 5110 non-null   int64  \n",
      " 1   gender             5110 non-null   object \n",
      " 2   age                5110 non-null   float64\n",
      " 3   hypertension       5110 non-null   int64  \n",
      " 4   heart_disease      5110 non-null   int64  \n",
      " 5   ever_married       5110 non-null   object \n",
      " 6   work_type          5110 non-null   object \n",
      " 7   residence_type     5110 non-null   object \n",
      " 8   avg_glucose_level  5110 non-null   float64\n",
      " 9   bmi                4909 non-null   float64\n",
      " 10  smoking_status     5110 non-null   object \n",
      " 11  stroke             5110 non-null   int64  \n",
      "dtypes: float64(3), int64(4), object(5)\n",
      "memory usage: 479.2+ KB\n"
     ]
    }
   ],
   "source": [
    "df.columns = df.columns.str.lower()\n",
    "df.info()"
   ]
  },
  {
   "cell_type": "code",
   "execution_count": 4,
   "id": "e8620205",
   "metadata": {},
   "outputs": [
    {
     "data": {
      "text/html": [
       "<div>\n",
       "<style scoped>\n",
       "    .dataframe tbody tr th:only-of-type {\n",
       "        vertical-align: middle;\n",
       "    }\n",
       "\n",
       "    .dataframe tbody tr th {\n",
       "        vertical-align: top;\n",
       "    }\n",
       "\n",
       "    .dataframe thead th {\n",
       "        text-align: right;\n",
       "    }\n",
       "</style>\n",
       "<table border=\"1\" class=\"dataframe\">\n",
       "  <thead>\n",
       "    <tr style=\"text-align: right;\">\n",
       "      <th></th>\n",
       "      <th>id</th>\n",
       "      <th>gender</th>\n",
       "      <th>age</th>\n",
       "      <th>hypertension</th>\n",
       "      <th>heart_disease</th>\n",
       "      <th>ever_married</th>\n",
       "      <th>work_type</th>\n",
       "      <th>residence_type</th>\n",
       "      <th>avg_glucose_level</th>\n",
       "      <th>bmi</th>\n",
       "      <th>smoking_status</th>\n",
       "      <th>stroke</th>\n",
       "    </tr>\n",
       "  </thead>\n",
       "  <tbody>\n",
       "    <tr>\n",
       "      <th>0</th>\n",
       "      <td>9046</td>\n",
       "      <td>Male</td>\n",
       "      <td>67.0</td>\n",
       "      <td>0</td>\n",
       "      <td>1</td>\n",
       "      <td>Yes</td>\n",
       "      <td>Private</td>\n",
       "      <td>Urban</td>\n",
       "      <td>228.69</td>\n",
       "      <td>36.6</td>\n",
       "      <td>formerly smoked</td>\n",
       "      <td>1</td>\n",
       "    </tr>\n",
       "    <tr>\n",
       "      <th>1</th>\n",
       "      <td>51676</td>\n",
       "      <td>Female</td>\n",
       "      <td>61.0</td>\n",
       "      <td>0</td>\n",
       "      <td>0</td>\n",
       "      <td>Yes</td>\n",
       "      <td>Self-employed</td>\n",
       "      <td>Rural</td>\n",
       "      <td>202.21</td>\n",
       "      <td>NaN</td>\n",
       "      <td>never smoked</td>\n",
       "      <td>1</td>\n",
       "    </tr>\n",
       "    <tr>\n",
       "      <th>2</th>\n",
       "      <td>31112</td>\n",
       "      <td>Male</td>\n",
       "      <td>80.0</td>\n",
       "      <td>0</td>\n",
       "      <td>1</td>\n",
       "      <td>Yes</td>\n",
       "      <td>Private</td>\n",
       "      <td>Rural</td>\n",
       "      <td>105.92</td>\n",
       "      <td>32.5</td>\n",
       "      <td>never smoked</td>\n",
       "      <td>1</td>\n",
       "    </tr>\n",
       "    <tr>\n",
       "      <th>3</th>\n",
       "      <td>60182</td>\n",
       "      <td>Female</td>\n",
       "      <td>49.0</td>\n",
       "      <td>0</td>\n",
       "      <td>0</td>\n",
       "      <td>Yes</td>\n",
       "      <td>Private</td>\n",
       "      <td>Urban</td>\n",
       "      <td>171.23</td>\n",
       "      <td>34.4</td>\n",
       "      <td>smokes</td>\n",
       "      <td>1</td>\n",
       "    </tr>\n",
       "    <tr>\n",
       "      <th>4</th>\n",
       "      <td>1665</td>\n",
       "      <td>Female</td>\n",
       "      <td>79.0</td>\n",
       "      <td>1</td>\n",
       "      <td>0</td>\n",
       "      <td>Yes</td>\n",
       "      <td>Self-employed</td>\n",
       "      <td>Rural</td>\n",
       "      <td>174.12</td>\n",
       "      <td>24.0</td>\n",
       "      <td>never smoked</td>\n",
       "      <td>1</td>\n",
       "    </tr>\n",
       "    <tr>\n",
       "      <th>5</th>\n",
       "      <td>56669</td>\n",
       "      <td>Male</td>\n",
       "      <td>81.0</td>\n",
       "      <td>0</td>\n",
       "      <td>0</td>\n",
       "      <td>Yes</td>\n",
       "      <td>Private</td>\n",
       "      <td>Urban</td>\n",
       "      <td>186.21</td>\n",
       "      <td>29.0</td>\n",
       "      <td>formerly smoked</td>\n",
       "      <td>1</td>\n",
       "    </tr>\n",
       "    <tr>\n",
       "      <th>6</th>\n",
       "      <td>53882</td>\n",
       "      <td>Male</td>\n",
       "      <td>74.0</td>\n",
       "      <td>1</td>\n",
       "      <td>1</td>\n",
       "      <td>Yes</td>\n",
       "      <td>Private</td>\n",
       "      <td>Rural</td>\n",
       "      <td>70.09</td>\n",
       "      <td>27.4</td>\n",
       "      <td>never smoked</td>\n",
       "      <td>1</td>\n",
       "    </tr>\n",
       "    <tr>\n",
       "      <th>7</th>\n",
       "      <td>10434</td>\n",
       "      <td>Female</td>\n",
       "      <td>69.0</td>\n",
       "      <td>0</td>\n",
       "      <td>0</td>\n",
       "      <td>No</td>\n",
       "      <td>Private</td>\n",
       "      <td>Urban</td>\n",
       "      <td>94.39</td>\n",
       "      <td>22.8</td>\n",
       "      <td>never smoked</td>\n",
       "      <td>1</td>\n",
       "    </tr>\n",
       "    <tr>\n",
       "      <th>8</th>\n",
       "      <td>27419</td>\n",
       "      <td>Female</td>\n",
       "      <td>59.0</td>\n",
       "      <td>0</td>\n",
       "      <td>0</td>\n",
       "      <td>Yes</td>\n",
       "      <td>Private</td>\n",
       "      <td>Rural</td>\n",
       "      <td>76.15</td>\n",
       "      <td>NaN</td>\n",
       "      <td>Unknown</td>\n",
       "      <td>1</td>\n",
       "    </tr>\n",
       "    <tr>\n",
       "      <th>9</th>\n",
       "      <td>60491</td>\n",
       "      <td>Female</td>\n",
       "      <td>78.0</td>\n",
       "      <td>0</td>\n",
       "      <td>0</td>\n",
       "      <td>Yes</td>\n",
       "      <td>Private</td>\n",
       "      <td>Urban</td>\n",
       "      <td>58.57</td>\n",
       "      <td>24.2</td>\n",
       "      <td>Unknown</td>\n",
       "      <td>1</td>\n",
       "    </tr>\n",
       "  </tbody>\n",
       "</table>\n",
       "</div>"
      ],
      "text/plain": [
       "      id  gender   age  hypertension  heart_disease ever_married  \\\n",
       "0   9046    Male  67.0             0              1          Yes   \n",
       "1  51676  Female  61.0             0              0          Yes   \n",
       "2  31112    Male  80.0             0              1          Yes   \n",
       "3  60182  Female  49.0             0              0          Yes   \n",
       "4   1665  Female  79.0             1              0          Yes   \n",
       "5  56669    Male  81.0             0              0          Yes   \n",
       "6  53882    Male  74.0             1              1          Yes   \n",
       "7  10434  Female  69.0             0              0           No   \n",
       "8  27419  Female  59.0             0              0          Yes   \n",
       "9  60491  Female  78.0             0              0          Yes   \n",
       "\n",
       "       work_type residence_type  avg_glucose_level   bmi   smoking_status  \\\n",
       "0        Private          Urban             228.69  36.6  formerly smoked   \n",
       "1  Self-employed          Rural             202.21   NaN     never smoked   \n",
       "2        Private          Rural             105.92  32.5     never smoked   \n",
       "3        Private          Urban             171.23  34.4           smokes   \n",
       "4  Self-employed          Rural             174.12  24.0     never smoked   \n",
       "5        Private          Urban             186.21  29.0  formerly smoked   \n",
       "6        Private          Rural              70.09  27.4     never smoked   \n",
       "7        Private          Urban              94.39  22.8     never smoked   \n",
       "8        Private          Rural              76.15   NaN          Unknown   \n",
       "9        Private          Urban              58.57  24.2          Unknown   \n",
       "\n",
       "   stroke  \n",
       "0       1  \n",
       "1       1  \n",
       "2       1  \n",
       "3       1  \n",
       "4       1  \n",
       "5       1  \n",
       "6       1  \n",
       "7       1  \n",
       "8       1  \n",
       "9       1  "
      ]
     },
     "execution_count": 4,
     "metadata": {},
     "output_type": "execute_result"
    }
   ],
   "source": [
    "df.head(10)"
   ]
  },
  {
   "cell_type": "markdown",
   "id": "e01243e6",
   "metadata": {},
   "source": [
    "The meanings of the columns are rather self-explanatory. There are 11 features in total, plus the label. The label is represented by the *stroke* column. Note that the *bmi* column has missing values, which is something that we will tackle later. Furthermore, a number of features are categorical rather than numeric. As most machine learning algorithms require numeric input, we will address this issue for each categorical feature individually."
   ]
  },
  {
   "cell_type": "markdown",
   "id": "6f8d29f0",
   "metadata": {},
   "source": [
    "### Data exploration and preprocessing"
   ]
  },
  {
   "cell_type": "markdown",
   "id": "1d5140dd",
   "metadata": {},
   "source": [
    "In the following we will study each column in more detail. Let's start with the *id* column. Since this column will not be relevant to predict strokes, we will simply drop it. Before we remove it, we will make sure the dataset does not contain any duplicate IDs:"
   ]
  },
  {
   "cell_type": "code",
   "execution_count": 5,
   "id": "8c5cb4a1",
   "metadata": {},
   "outputs": [],
   "source": [
    "df = df.drop_duplicates(subset=\"id\")\n",
    "df = df.drop([\"id\"], axis=1)"
   ]
  },
  {
   "cell_type": "markdown",
   "id": "5a394988",
   "metadata": {},
   "source": [
    "The *gender* column shows the following distribution:"
   ]
  },
  {
   "cell_type": "code",
   "execution_count": 6,
   "id": "91549c0d",
   "metadata": {},
   "outputs": [
    {
     "data": {
      "text/plain": [
       "Female    2994\n",
       "Male      2115\n",
       "Other        1\n",
       "Name: gender, dtype: int64"
      ]
     },
     "execution_count": 6,
     "metadata": {},
     "output_type": "execute_result"
    }
   ],
   "source": [
    "df[\"gender\"].value_counts()"
   ]
  },
  {
   "cell_type": "markdown",
   "id": "8ab60d4a",
   "metadata": {},
   "source": [
    "For simplicity, we will only consider two gender options. The *Other* value can be replaced by the majority vote, which is *Female*. Furthermore, we should convert gender into an integer:"
   ]
  },
  {
   "cell_type": "code",
   "execution_count": 7,
   "id": "92d9fad8",
   "metadata": {},
   "outputs": [
    {
     "data": {
      "text/plain": [
       "1    2995\n",
       "0    2115\n",
       "Name: gender, dtype: int64"
      ]
     },
     "execution_count": 7,
     "metadata": {},
     "output_type": "execute_result"
    }
   ],
   "source": [
    "df[\"gender\"] = df[\"gender\"].replace([\"Other\"], \"Female\")\n",
    "gender_conversion = {\"Male\": 0, \"Female\": 1}\n",
    "df[\"gender\"] = df[\"gender\"].map(gender_conversion)\n",
    "df[\"gender\"] = df[\"gender\"].astype(int)\n",
    "df[\"gender\"].value_counts()"
   ]
  },
  {
   "cell_type": "markdown",
   "id": "18d963a7",
   "metadata": {},
   "source": [
    "Next up is the *age* column:"
   ]
  },
  {
   "cell_type": "code",
   "execution_count": 8,
   "id": "d861683c",
   "metadata": {},
   "outputs": [
    {
     "data": {
      "text/plain": [
       "count    5110.000000\n",
       "mean       43.226614\n",
       "std        22.612647\n",
       "min         0.080000\n",
       "25%        25.000000\n",
       "50%        45.000000\n",
       "75%        61.000000\n",
       "max        82.000000\n",
       "Name: age, dtype: float64"
      ]
     },
     "execution_count": 8,
     "metadata": {},
     "output_type": "execute_result"
    }
   ],
   "source": [
    "df[\"age\"].describe()"
   ]
  },
  {
   "cell_type": "markdown",
   "id": "636922ba",
   "metadata": {},
   "source": [
    "The *hypertension* field takes on the values 0 (no hypertension) and 1 (hypertension). Similarly, *heart_disease* is either 0 (no heart disease) or 1 (heart disease). The distribution of these two variables is as follows:"
   ]
  },
  {
   "cell_type": "code",
   "execution_count": 9,
   "id": "61a9b324",
   "metadata": {},
   "outputs": [
    {
     "data": {
      "text/plain": [
       "hypertension  heart_disease\n",
       "0             0                4400\n",
       "1             0                 434\n",
       "0             1                 212\n",
       "1             1                  64\n",
       "dtype: int64"
      ]
     },
     "execution_count": 9,
     "metadata": {},
     "output_type": "execute_result"
    }
   ],
   "source": [
    "df[[\"hypertension\", \"heart_disease\"]].value_counts()"
   ]
  },
  {
   "cell_type": "markdown",
   "id": "3808ca75",
   "metadata": {},
   "source": [
    "The column *ever_married* shows whether the patient has ever been married:"
   ]
  },
  {
   "cell_type": "code",
   "execution_count": 10,
   "id": "5aad08b6",
   "metadata": {},
   "outputs": [
    {
     "data": {
      "text/plain": [
       "Yes    3353\n",
       "No     1757\n",
       "Name: ever_married, dtype: int64"
      ]
     },
     "execution_count": 10,
     "metadata": {},
     "output_type": "execute_result"
    }
   ],
   "source": [
    "df[\"ever_married\"].value_counts()"
   ]
  },
  {
   "cell_type": "markdown",
   "id": "596b4907",
   "metadata": {},
   "source": [
    "To convert this feature to a numeric one, we can easily apply a binary encoding:"
   ]
  },
  {
   "cell_type": "code",
   "execution_count": 11,
   "id": "1418d9d8",
   "metadata": {},
   "outputs": [],
   "source": [
    "married_conversion = {\"No\": 0, \"Yes\": 1}\n",
    "df[\"ever_married\"] = df[\"ever_married\"].map(married_conversion)\n",
    "df[\"ever_married\"] = df[\"ever_married\"].astype(int)"
   ]
  },
  {
   "cell_type": "markdown",
   "id": "777ea29a",
   "metadata": {},
   "source": [
    "Next, we have the column *work_type*. There are 5 possible categories:"
   ]
  },
  {
   "cell_type": "code",
   "execution_count": 12,
   "id": "52ffaeee",
   "metadata": {},
   "outputs": [
    {
     "data": {
      "text/plain": [
       "<AxesSubplot:xlabel='work_type', ylabel='stroke'>"
      ]
     },
     "execution_count": 12,
     "metadata": {},
     "output_type": "execute_result"
    },
    {
     "data": {
      "image/png": "[encoded data removed]",
      "text/plain": [
       "<Figure size 432x288 with 1 Axes>"
      ]
     },
     "metadata": {
      "needs_background": "light"
     },
     "output_type": "display_data"
    }
   ],
   "source": [
    "sns.barplot(x='work_type', y='stroke', data=df)"
   ]
  },
  {
   "cell_type": "markdown",
   "id": "6a1dfdf2",
   "metadata": {},
   "source": [
    "In this plot, the mean values and 95% confidence intervals are shown for the different types of work. We note that *Private* and *Govt_job* have a similar impact on strokes. The same is true for *Children* and *Never_worked*. For this reason, we can create 3 categories instead without loosing much information. Moreover, the fact that a patient is a child is redundant as it is already captured by the *age* field."
   ]
  },
  {
   "cell_type": "code",
   "execution_count": 13,
   "id": "39c8d64b",
   "metadata": {},
   "outputs": [
    {
     "data": {
      "text/plain": [
       "employed          3581\n",
       "self-employed      818\n",
       "never_employed     711\n",
       "Name: work_type, dtype: int64"
      ]
     },
     "execution_count": 13,
     "metadata": {},
     "output_type": "execute_result"
    }
   ],
   "source": [
    "df[\"work_type\"] = df[\"work_type\"].replace([\"Self-employed\"], \"self-employed\")\n",
    "df[\"work_type\"] = df[\"work_type\"].replace([\"Private\", \"Govt_job\"], \"employed\")\n",
    "df[\"work_type\"] = df[\"work_type\"].replace([\"children\", \"Never_worked\"], \"never_employed\")\n",
    "\n",
    "# Sanity check that children (up to age 12) are never employed:\n",
    "df.loc[df[\"age\"] < 13, \"work_type\"] = \"never_employed\"\n",
    "\n",
    "df[\"work_type\"].value_counts()"
   ]
  },
  {
   "cell_type": "markdown",
   "id": "dc3b8787",
   "metadata": {},
   "source": [
    "Since the work type categories are nominal, we can benefit from one-hot encoding (we  will drop one column to remove redundancies):"
   ]
  },
  {
   "cell_type": "code",
   "execution_count": 14,
   "id": "d3503d50",
   "metadata": {},
   "outputs": [],
   "source": [
    "df_work_ohe = pd.get_dummies(df[\"work_type\"], prefix=\"work_type\", drop_first=True)\n",
    "df = pd.concat([df, df_work_ohe], axis=1)\n",
    "df = df.drop([\"work_type\"], axis=1)"
   ]
  },
  {
   "cell_type": "markdown",
   "id": "58bc51dc",
   "metadata": {},
   "source": [
    "For the *residence_type* field, the distribution is as follows:"
   ]
  },
  {
   "cell_type": "code",
   "execution_count": 15,
   "id": "f3b4369a",
   "metadata": {},
   "outputs": [
    {
     "data": {
      "text/plain": [
       "Urban    2596\n",
       "Rural    2514\n",
       "Name: residence_type, dtype: int64"
      ]
     },
     "execution_count": 15,
     "metadata": {},
     "output_type": "execute_result"
    }
   ],
   "source": [
    "df[\"residence_type\"].value_counts()"
   ]
  },
  {
   "cell_type": "markdown",
   "id": "218a0543",
   "metadata": {},
   "source": [
    "We need to convert this categorical field to a numerical one:"
   ]
  },
  {
   "cell_type": "code",
   "execution_count": 16,
   "id": "05b801f9",
   "metadata": {},
   "outputs": [],
   "source": [
    "residence_conversion = {\"Rural\": 0, \"Urban\": 1}\n",
    "df[\"residence_type\"] = df[\"residence_type\"].map(residence_conversion)\n",
    "df[\"residence_type\"] = df[\"residence_type\"].astype(int)"
   ]
  },
  {
   "cell_type": "markdown",
   "id": "6d947236",
   "metadata": {},
   "source": [
    "The following column *avg_glucose_level* describes the average glucose level in mg/dL. From the [Mayo Clinic](https://www.mayoclinic.org/diseases-conditions/diabetes/diagnosis-treatment/drc-20371451) we learn the following in relation to diabetes:\n",
    "\n",
    "> A blood sugar level less than 140 mg/dL is normal. A reading of more than 200 mg/dL after two hours indicates diabetes. A reading between 140 and 199 mg/dL indicates prediabetes.\n",
    "\n",
    "Our glucose level distribution is as follows:"
   ]
  },
  {
   "cell_type": "code",
   "execution_count": 17,
   "id": "ec6fd164",
   "metadata": {},
   "outputs": [
    {
     "data": {
      "text/plain": [
       "count    5110.000000\n",
       "mean      106.147677\n",
       "std        45.283560\n",
       "min        55.120000\n",
       "25%        77.245000\n",
       "50%        91.885000\n",
       "75%       114.090000\n",
       "max       271.740000\n",
       "Name: avg_glucose_level, dtype: float64"
      ]
     },
     "execution_count": 17,
     "metadata": {},
     "output_type": "execute_result"
    }
   ],
   "source": [
    "df[\"avg_glucose_level\"].describe()"
   ]
  },
  {
   "cell_type": "markdown",
   "id": "9e287d0c",
   "metadata": {},
   "source": [
    "The next feature column is \"smoking_status\". The options are as follows:"
   ]
  },
  {
   "cell_type": "code",
   "execution_count": 18,
   "id": "6a3f3e0a",
   "metadata": {},
   "outputs": [
    {
     "data": {
      "text/plain": [
       "never smoked       1892\n",
       "Unknown            1544\n",
       "formerly smoked     885\n",
       "smokes              789\n",
       "Name: smoking_status, dtype: int64"
      ]
     },
     "execution_count": 18,
     "metadata": {},
     "output_type": "execute_result"
    }
   ],
   "source": [
    "df[\"smoking_status\"].value_counts()"
   ]
  },
  {
   "cell_type": "markdown",
   "id": "d3bb1fb8",
   "metadata": {},
   "source": [
    "The value *Unknown* means that this information is unavailable. Since it occurs 1544 times in our dataset, it is best to leave it as a separate category rather than to replace it by guesses. As the *smoking_status* variable is somewhat ordinal, we can apply ordinal encoding:"
   ]
  },
  {
   "cell_type": "code",
   "execution_count": 19,
   "id": "b7e24479",
   "metadata": {},
   "outputs": [],
   "source": [
    "smoking_conversion = {\"never smoked\": 0, \"Unknown\": 1, \"formerly smoked\": 2, \"smokes\": 3}\n",
    "df[\"smoking_status\"] = df[\"smoking_status\"].map(smoking_conversion)\n",
    "df[\"smoking_status\"] = df[\"smoking_status\"].astype(int)"
   ]
  },
  {
   "cell_type": "markdown",
   "id": "be388918",
   "metadata": {},
   "source": [
    "The next column is *bmi*, the body mass index (BMI) in kg/m$^2$. From the [CDC](https://www.cdc.gov/healthyweight/assessing/bmi/adult_bmi/index.html) we learn the following in relation to obesity:\n",
    "\n",
    "| BMI | Weight status |\n",
    "| ---: | :--- |\n",
    "| < 18.5 | Underweight |\n",
    "| 18.5 - 24.9 | Normal weight |\n",
    "| 25.0 - 29.9 | Overweight |\n",
    "| > 30.0 | Obese |\n",
    "\n",
    "From earlier we know that there are 201 missing values for this field. We can infer those missing values by feeding the corresponding rows into a linear regression model (obtained by training on the entire remaining dataset): "
   ]
  },
  {
   "cell_type": "code",
   "execution_count": 20,
   "id": "bf270de0",
   "metadata": {},
   "outputs": [],
   "source": [
    "train_data = df.dropna()\n",
    "X_train = train_data.drop(\"bmi\", axis=1)\n",
    "y_train = train_data[\"bmi\"]\n",
    "\n",
    "test_data = df[df[\"bmi\"].isnull()]\n",
    "X_test = test_data.drop(\"bmi\", axis=1)\n",
    "\n",
    "model = LinearRegression()\n",
    "model.fit(X_train, y_train)\n",
    "y_test = model.predict(X_test)\n",
    "\n",
    "bmi_slice = df[\"bmi\"].copy()\n",
    "bmi_slice[np.isnan(bmi_slice)] = y_test\n",
    "df[\"bmi\"] = bmi_slice"
   ]
  },
  {
   "cell_type": "markdown",
   "id": "02c40d0c",
   "metadata": {},
   "source": [
    "Finally, we have the target column *stroke*. Its values refer to whether the patient has experienced a stroke (1) or not (0)."
   ]
  },
  {
   "cell_type": "code",
   "execution_count": 21,
   "id": "56cf3775",
   "metadata": {},
   "outputs": [
    {
     "data": {
      "text/plain": [
       "0    4861\n",
       "1     249\n",
       "Name: stroke, dtype: int64"
      ]
     },
     "execution_count": 21,
     "metadata": {},
     "output_type": "execute_result"
    }
   ],
   "source": [
    "df[\"stroke\"].value_counts()"
   ]
  },
  {
   "cell_type": "markdown",
   "id": "6a0709df",
   "metadata": {},
   "source": [
    "To conclude the preprocessing, let us verify that there are no longer any missing values and that all fields are numeric of nature:"
   ]
  },
  {
   "cell_type": "code",
   "execution_count": 22,
   "id": "453564d9",
   "metadata": {},
   "outputs": [
    {
     "name": "stdout",
     "output_type": "stream",
     "text": [
      "<class 'pandas.core.frame.DataFrame'>\n",
      "Int64Index: 5110 entries, 0 to 5109\n",
      "Data columns (total 12 columns):\n",
      " #   Column                    Non-Null Count  Dtype  \n",
      "---  ------                    --------------  -----  \n",
      " 0   gender                    5110 non-null   int64  \n",
      " 1   age                       5110 non-null   float64\n",
      " 2   hypertension              5110 non-null   int64  \n",
      " 3   heart_disease             5110 non-null   int64  \n",
      " 4   ever_married              5110 non-null   int64  \n",
      " 5   residence_type            5110 non-null   int64  \n",
      " 6   avg_glucose_level         5110 non-null   float64\n",
      " 7   bmi                       5110 non-null   float64\n",
      " 8   smoking_status            5110 non-null   int64  \n",
      " 9   stroke                    5110 non-null   int64  \n",
      " 10  work_type_never_employed  5110 non-null   uint8  \n",
      " 11  work_type_self-employed   5110 non-null   uint8  \n",
      "dtypes: float64(3), int64(7), uint8(2)\n",
      "memory usage: 578.2 KB\n"
     ]
    }
   ],
   "source": [
    "df.info()"
   ]
  },
  {
   "cell_type": "code",
   "execution_count": 23,
   "id": "aee3f461",
   "metadata": {},
   "outputs": [
    {
     "data": {
      "text/html": [
       "<div>\n",
       "<style scoped>\n",
       "    .dataframe tbody tr th:only-of-type {\n",
       "        vertical-align: middle;\n",
       "    }\n",
       "\n",
       "    .dataframe tbody tr th {\n",
       "        vertical-align: top;\n",
       "    }\n",
       "\n",
       "    .dataframe thead th {\n",
       "        text-align: right;\n",
       "    }\n",
       "</style>\n",
       "<table border=\"1\" class=\"dataframe\">\n",
       "  <thead>\n",
       "    <tr style=\"text-align: right;\">\n",
       "      <th></th>\n",
       "      <th>gender</th>\n",
       "      <th>age</th>\n",
       "      <th>hypertension</th>\n",
       "      <th>heart_disease</th>\n",
       "      <th>ever_married</th>\n",
       "      <th>residence_type</th>\n",
       "      <th>avg_glucose_level</th>\n",
       "      <th>bmi</th>\n",
       "      <th>smoking_status</th>\n",
       "      <th>stroke</th>\n",
       "      <th>work_type_never_employed</th>\n",
       "      <th>work_type_self-employed</th>\n",
       "    </tr>\n",
       "  </thead>\n",
       "  <tbody>\n",
       "    <tr>\n",
       "      <th>0</th>\n",
       "      <td>0</td>\n",
       "      <td>67.0</td>\n",
       "      <td>0</td>\n",
       "      <td>1</td>\n",
       "      <td>1</td>\n",
       "      <td>1</td>\n",
       "      <td>228.69</td>\n",
       "      <td>36.600000</td>\n",
       "      <td>2</td>\n",
       "      <td>1</td>\n",
       "      <td>0</td>\n",
       "      <td>0</td>\n",
       "    </tr>\n",
       "    <tr>\n",
       "      <th>1</th>\n",
       "      <td>1</td>\n",
       "      <td>61.0</td>\n",
       "      <td>0</td>\n",
       "      <td>0</td>\n",
       "      <td>1</td>\n",
       "      <td>0</td>\n",
       "      <td>202.21</td>\n",
       "      <td>31.104623</td>\n",
       "      <td>0</td>\n",
       "      <td>1</td>\n",
       "      <td>0</td>\n",
       "      <td>1</td>\n",
       "    </tr>\n",
       "    <tr>\n",
       "      <th>2</th>\n",
       "      <td>0</td>\n",
       "      <td>80.0</td>\n",
       "      <td>0</td>\n",
       "      <td>1</td>\n",
       "      <td>1</td>\n",
       "      <td>0</td>\n",
       "      <td>105.92</td>\n",
       "      <td>32.500000</td>\n",
       "      <td>0</td>\n",
       "      <td>1</td>\n",
       "      <td>0</td>\n",
       "      <td>0</td>\n",
       "    </tr>\n",
       "    <tr>\n",
       "      <th>3</th>\n",
       "      <td>1</td>\n",
       "      <td>49.0</td>\n",
       "      <td>0</td>\n",
       "      <td>0</td>\n",
       "      <td>1</td>\n",
       "      <td>1</td>\n",
       "      <td>171.23</td>\n",
       "      <td>34.400000</td>\n",
       "      <td>3</td>\n",
       "      <td>1</td>\n",
       "      <td>0</td>\n",
       "      <td>0</td>\n",
       "    </tr>\n",
       "    <tr>\n",
       "      <th>4</th>\n",
       "      <td>1</td>\n",
       "      <td>79.0</td>\n",
       "      <td>1</td>\n",
       "      <td>0</td>\n",
       "      <td>1</td>\n",
       "      <td>0</td>\n",
       "      <td>174.12</td>\n",
       "      <td>24.000000</td>\n",
       "      <td>0</td>\n",
       "      <td>1</td>\n",
       "      <td>0</td>\n",
       "      <td>1</td>\n",
       "    </tr>\n",
       "    <tr>\n",
       "      <th>5</th>\n",
       "      <td>0</td>\n",
       "      <td>81.0</td>\n",
       "      <td>0</td>\n",
       "      <td>0</td>\n",
       "      <td>1</td>\n",
       "      <td>1</td>\n",
       "      <td>186.21</td>\n",
       "      <td>29.000000</td>\n",
       "      <td>2</td>\n",
       "      <td>1</td>\n",
       "      <td>0</td>\n",
       "      <td>0</td>\n",
       "    </tr>\n",
       "    <tr>\n",
       "      <th>6</th>\n",
       "      <td>0</td>\n",
       "      <td>74.0</td>\n",
       "      <td>1</td>\n",
       "      <td>1</td>\n",
       "      <td>1</td>\n",
       "      <td>0</td>\n",
       "      <td>70.09</td>\n",
       "      <td>27.400000</td>\n",
       "      <td>0</td>\n",
       "      <td>1</td>\n",
       "      <td>0</td>\n",
       "      <td>0</td>\n",
       "    </tr>\n",
       "    <tr>\n",
       "      <th>7</th>\n",
       "      <td>1</td>\n",
       "      <td>69.0</td>\n",
       "      <td>0</td>\n",
       "      <td>0</td>\n",
       "      <td>0</td>\n",
       "      <td>1</td>\n",
       "      <td>94.39</td>\n",
       "      <td>22.800000</td>\n",
       "      <td>0</td>\n",
       "      <td>1</td>\n",
       "      <td>0</td>\n",
       "      <td>0</td>\n",
       "    </tr>\n",
       "    <tr>\n",
       "      <th>8</th>\n",
       "      <td>1</td>\n",
       "      <td>59.0</td>\n",
       "      <td>0</td>\n",
       "      <td>0</td>\n",
       "      <td>1</td>\n",
       "      <td>0</td>\n",
       "      <td>76.15</td>\n",
       "      <td>29.137033</td>\n",
       "      <td>1</td>\n",
       "      <td>1</td>\n",
       "      <td>0</td>\n",
       "      <td>0</td>\n",
       "    </tr>\n",
       "    <tr>\n",
       "      <th>9</th>\n",
       "      <td>1</td>\n",
       "      <td>78.0</td>\n",
       "      <td>0</td>\n",
       "      <td>0</td>\n",
       "      <td>1</td>\n",
       "      <td>1</td>\n",
       "      <td>58.57</td>\n",
       "      <td>24.200000</td>\n",
       "      <td>1</td>\n",
       "      <td>1</td>\n",
       "      <td>0</td>\n",
       "      <td>0</td>\n",
       "    </tr>\n",
       "  </tbody>\n",
       "</table>\n",
       "</div>"
      ],
      "text/plain": [
       "   gender   age  hypertension  heart_disease  ever_married  residence_type  \\\n",
       "0       0  67.0             0              1             1               1   \n",
       "1       1  61.0             0              0             1               0   \n",
       "2       0  80.0             0              1             1               0   \n",
       "3       1  49.0             0              0             1               1   \n",
       "4       1  79.0             1              0             1               0   \n",
       "5       0  81.0             0              0             1               1   \n",
       "6       0  74.0             1              1             1               0   \n",
       "7       1  69.0             0              0             0               1   \n",
       "8       1  59.0             0              0             1               0   \n",
       "9       1  78.0             0              0             1               1   \n",
       "\n",
       "   avg_glucose_level        bmi  smoking_status  stroke  \\\n",
       "0             228.69  36.600000               2       1   \n",
       "1             202.21  31.104623               0       1   \n",
       "2             105.92  32.500000               0       1   \n",
       "3             171.23  34.400000               3       1   \n",
       "4             174.12  24.000000               0       1   \n",
       "5             186.21  29.000000               2       1   \n",
       "6              70.09  27.400000               0       1   \n",
       "7              94.39  22.800000               0       1   \n",
       "8              76.15  29.137033               1       1   \n",
       "9              58.57  24.200000               1       1   \n",
       "\n",
       "   work_type_never_employed  work_type_self-employed  \n",
       "0                         0                        0  \n",
       "1                         0                        1  \n",
       "2                         0                        0  \n",
       "3                         0                        0  \n",
       "4                         0                        1  \n",
       "5                         0                        0  \n",
       "6                         0                        0  \n",
       "7                         0                        0  \n",
       "8                         0                        0  \n",
       "9                         0                        0  "
      ]
     },
     "execution_count": 23,
     "metadata": {},
     "output_type": "execute_result"
    }
   ],
   "source": [
    "df.head(10)"
   ]
  },
  {
   "cell_type": "markdown",
   "id": "1f576858",
   "metadata": {},
   "source": [
    "### Model building"
   ]
  },
  {
   "cell_type": "markdown",
   "id": "87fa554d",
   "metadata": {},
   "source": [
    "Now that we have preprocessed our dataset, we can try to model it with various machine learning algorithms. The one with the highest F$_1$-score, will be picked as our final model.\n",
    "\n",
    "First, we make a train-test split of the data:"
   ]
  },
  {
   "cell_type": "code",
   "execution_count": 24,
   "id": "0acc6319",
   "metadata": {},
   "outputs": [],
   "source": [
    "X = df.drop([\"stroke\"], axis=1)\n",
    "y = df[\"stroke\"]\n",
    "X_train, X_test, y_train, y_test = train_test_split(X, y, test_size=0.25, random_state=0)"
   ]
  },
  {
   "cell_type": "markdown",
   "id": "808391e6",
   "metadata": {},
   "source": [
    "Let us take a look at the distribution of the target label:"
   ]
  },
  {
   "cell_type": "code",
   "execution_count": 25,
   "id": "ffac5a9a",
   "metadata": {},
   "outputs": [
    {
     "data": {
      "text/plain": [
       "0    3648\n",
       "1     184\n",
       "Name: stroke, dtype: int64"
      ]
     },
     "execution_count": 25,
     "metadata": {},
     "output_type": "execute_result"
    }
   ],
   "source": [
    "y_train.value_counts()"
   ]
  },
  {
   "cell_type": "markdown",
   "id": "00f5a44a",
   "metadata": {},
   "source": [
    "Since our dataset is highly imbalanced, there is a risk that our models will be biased toward predicting no stroke. To combat this issue, we can apply an oversampling technique called SMOTE, which is short for Synthetic Minority Oversampling Technique. This technique makes use of the K-nearest neighbors algorithm to synthesize more data for the minority class. After applying SMOTE to the training set, the stroke vs. no-stroke rows are equally balanced."
   ]
  },
  {
   "cell_type": "code",
   "execution_count": 26,
   "id": "d7c2a60d",
   "metadata": {},
   "outputs": [
    {
     "data": {
      "text/plain": [
       "0    3648\n",
       "1    3648\n",
       "Name: stroke, dtype: int64"
      ]
     },
     "execution_count": 26,
     "metadata": {},
     "output_type": "execute_result"
    }
   ],
   "source": [
    "oversampler = SMOTE(random_state=0)\n",
    "X_train, y_train = oversampler.fit_resample(X_train, y_train)\n",
    "y_train.value_counts()"
   ]
  },
  {
   "cell_type": "markdown",
   "id": "e33722b9",
   "metadata": {},
   "source": [
    "Next, we apply standardization (zero mean and unit variance) to *X_train* and *X_test* to ensure that all data 'lives' at the same scale:"
   ]
  },
  {
   "cell_type": "code",
   "execution_count": 27,
   "id": "c5ad668a",
   "metadata": {},
   "outputs": [],
   "source": [
    "scaler = StandardScaler()\n",
    "feature_sets = [scaler.fit_transform(feature_set) for feature_set in [X_train, X_test]]    \n",
    "X_train = feature_sets[0]\n",
    "X_test = feature_sets[1]\n",
    "\n",
    "# X_train = np.array(X_train)\n",
    "# X_test = np.array(X_test)"
   ]
  },
  {
   "cell_type": "markdown",
   "id": "0d066c2a",
   "metadata": {},
   "source": [
    "Before we start model building, it is good practice to verify the dimensions of the data:"
   ]
  },
  {
   "cell_type": "code",
   "execution_count": 28,
   "id": "d929209d",
   "metadata": {},
   "outputs": [
    {
     "name": "stdout",
     "output_type": "stream",
     "text": [
      "Dimensions of the training set:\n",
      "\n",
      "Features: (7296, 11) \n",
      "Labels: (7296,)\n",
      "\n",
      "Dimensions of the test set:\n",
      "\n",
      "Features: (1278, 11) \n",
      "Labels: (1278,)\n"
     ]
    }
   ],
   "source": [
    "y_train = np.array(y_train)\n",
    "print(\"Dimensions of the training set:\\n\")\n",
    "print(\"Features:\", X_train.shape, \"\\nLabels:\", y_train.shape)\n",
    "\n",
    "y_test = np.array(y_test)\n",
    "print(\"\\nDimensions of the test set:\\n\")\n",
    "print(\"Features:\", X_test.shape, \"\\nLabels:\", y_test.shape)"
   ]
  },
  {
   "cell_type": "markdown",
   "id": "afc17dcd",
   "metadata": {},
   "source": [
    "Using the Scikit-learn library, we can quickly try many different machine learning algorithms and select the best one. To this end, we define a function that we can invoke for each algorithm to train and study the corresponding models:"
   ]
  },
  {
   "cell_type": "code",
   "execution_count": 29,
   "id": "6fe7e01b",
   "metadata": {},
   "outputs": [],
   "source": [
    "def train_test_model(\n",
    "        name: str,\n",
    "        algorithm: Any, \n",
    "        X_train: NDArray[float], \n",
    "        y_train: NDArray[int], \n",
    "        X_test: NDArray[float], \n",
    "        y_test: NDArray[int],\n",
    ") -> Dict[str, Union[float, NDArray[int], str]]:\n",
    "    \"\"\"Trains and tests a model for a given machine learning algorithm.\n",
    "    \n",
    "    Args:\n",
    "        name: The name of the algorithm.\n",
    "        algorithm: The Scikit-learn algorithm class.\n",
    "        X_train: The input for training.\n",
    "        y_train: The labels for training.\n",
    "        X_test: The input for testing.\n",
    "        y_test: The labels for testing.\n",
    "    \n",
    "    Returns:\n",
    "        The accuracy, precision, recall, and F1-score pertaining to the obtained model, \n",
    "        as well as the confusion matrix.\n",
    "    \"\"\"\n",
    "    \n",
    "    classifier = algorithm.fit(X_train, y_train)\n",
    "    y_pred = classifier.predict(X_test)\n",
    "\n",
    "    accuracy = round(accuracy_score(y_test, y_pred), 3)\n",
    "    precision = round(precision_score(y_test, y_pred, average=\"micro\"), 3)\n",
    "    recall = round(recall_score(y_test, y_pred, average=\"micro\"), 3)\n",
    "    f1 = round(f1_score(y_test, y_pred, average=\"micro\"), 3)    \n",
    "    conf_mat = confusion_matrix(y_test, y_pred)\n",
    "    class_rep = classification_report(y_test, y_pred)\n",
    "    results = {\n",
    "        \"Accuracy\": accuracy, \n",
    "        \"Precision\": precision, \n",
    "        \"Recall\": recall, \n",
    "        \"F1-score\": f1, \n",
    "        \"Confusion matrix\": conf_mat,\n",
    "        \"Classification report\": class_rep,\n",
    "    }\n",
    "\n",
    "    return results"
   ]
  },
  {
   "cell_type": "markdown",
   "id": "27860b0f",
   "metadata": {},
   "source": [
    "We can collect all the algorithms that we want to try out in a single dictionary:"
   ]
  },
  {
   "cell_type": "code",
   "execution_count": 30,
   "id": "9dab1ebf",
   "metadata": {},
   "outputs": [],
   "source": [
    "algorithms = {\n",
    "    \"Gaussian naive Bayes\": GaussianNB(),\n",
    "    \"K-nearest neighbors\": KNeighborsClassifier(),\n",
    "    \"Support vector machine\": SVC(),\n",
    "    \"Logistic regression\": LogisticRegression(),\n",
    "    \"Multilayer perceptron\": MLPClassifier(solver=\"lbfgs\", random_state=0),\n",
    "    \"Decision tree\": DecisionTreeClassifier(random_state=0),\n",
    "    \"Random forest\": RandomForestClassifier(random_state=0),\n",
    "}"
   ]
  },
  {
   "cell_type": "markdown",
   "id": "afa0267d",
   "metadata": {},
   "source": [
    "In the following we train and test models pertaining to all provided algorithms:"
   ]
  },
  {
   "cell_type": "code",
   "execution_count": 31,
   "id": "c5265aae",
   "metadata": {
    "scrolled": true
   },
   "outputs": [
    {
     "name": "stdout",
     "output_type": "stream",
     "text": [
      "GAUSSIAN NAIVE BAYES\n",
      "Duration: 0.03 seconds\n",
      "\n",
      "Confusion matrix: \n",
      "[[1213    0]\n",
      " [  65    0]]\n",
      "\n",
      "Classification report: \n",
      "              precision    recall  f1-score   support\n",
      "\n",
      "           0       0.95      1.00      0.97      1213\n",
      "           1       0.00      0.00      0.00        65\n",
      "\n",
      "    accuracy                           0.95      1278\n",
      "   macro avg       0.47      0.50      0.49      1278\n",
      "weighted avg       0.90      0.95      0.92      1278\n",
      "\n",
      "Accuracy: 0.949, Precision: 0.949, Recall: 0.949, F1-score: 0.949\n",
      "\n",
      "\n",
      "K-NEAREST NEIGHBORS\n",
      "Duration: 0.41 seconds\n",
      "\n",
      "Confusion matrix: \n",
      "[[913 300]\n",
      " [ 41  24]]\n",
      "\n",
      "Classification report: \n",
      "              precision    recall  f1-score   support\n",
      "\n",
      "           0       0.96      0.75      0.84      1213\n",
      "           1       0.07      0.37      0.12        65\n",
      "\n",
      "    accuracy                           0.73      1278\n",
      "   macro avg       0.52      0.56      0.48      1278\n",
      "weighted avg       0.91      0.73      0.81      1278\n",
      "\n",
      "Accuracy: 0.733, Precision: 0.733, Recall: 0.733, F1-score: 0.733\n",
      "\n",
      "\n",
      "SUPPORT VECTOR MACHINE\n",
      "Duration: 2.66 seconds\n",
      "\n",
      "Confusion matrix: \n",
      "[[793 420]\n",
      " [ 25  40]]\n",
      "\n",
      "Classification report: \n",
      "              precision    recall  f1-score   support\n",
      "\n",
      "           0       0.97      0.65      0.78      1213\n",
      "           1       0.09      0.62      0.15        65\n",
      "\n",
      "    accuracy                           0.65      1278\n",
      "   macro avg       0.53      0.63      0.47      1278\n",
      "weighted avg       0.92      0.65      0.75      1278\n",
      "\n",
      "Accuracy: 0.652, Precision: 0.652, Recall: 0.652, F1-score: 0.652\n",
      "\n",
      "\n",
      "LOGISTIC REGRESSION\n",
      "Duration: 0.02 seconds\n",
      "\n",
      "Confusion matrix: \n",
      "[[644 569]\n",
      " [  8  57]]\n",
      "\n",
      "Classification report: \n",
      "              precision    recall  f1-score   support\n",
      "\n",
      "           0       0.99      0.53      0.69      1213\n",
      "           1       0.09      0.88      0.16        65\n",
      "\n",
      "    accuracy                           0.55      1278\n",
      "   macro avg       0.54      0.70      0.43      1278\n",
      "weighted avg       0.94      0.55      0.66      1278\n",
      "\n",
      "Accuracy: 0.549, Precision: 0.549, Recall: 0.549, F1-score: 0.549\n",
      "\n",
      "\n",
      "MULTILAYER PERCEPTRON\n",
      "Duration: 3.05 seconds\n",
      "\n",
      "Confusion matrix: \n",
      "[[881 332]\n",
      " [ 37  28]]\n",
      "\n",
      "Classification report: \n",
      "              precision    recall  f1-score   support\n",
      "\n",
      "           0       0.96      0.73      0.83      1213\n",
      "           1       0.08      0.43      0.13        65\n",
      "\n",
      "    accuracy                           0.71      1278\n",
      "   macro avg       0.52      0.58      0.48      1278\n",
      "weighted avg       0.91      0.71      0.79      1278\n",
      "\n",
      "Accuracy: 0.711, Precision: 0.711, Recall: 0.711, F1-score: 0.711\n",
      "\n",
      "\n",
      "DECISION TREE\n",
      "Duration: 0.03 seconds\n",
      "\n",
      "Confusion matrix: \n",
      "[[1002  211]\n",
      " [  43   22]]\n",
      "\n",
      "Classification report: \n",
      "              precision    recall  f1-score   support\n",
      "\n",
      "           0       0.96      0.83      0.89      1213\n",
      "           1       0.09      0.34      0.15        65\n",
      "\n",
      "    accuracy                           0.80      1278\n",
      "   macro avg       0.53      0.58      0.52      1278\n",
      "weighted avg       0.91      0.80      0.85      1278\n",
      "\n",
      "Accuracy: 0.801, Precision: 0.801, Recall: 0.801, F1-score: 0.801\n",
      "\n",
      "\n",
      "RANDOM FOREST\n",
      "Duration: 0.71 seconds\n",
      "\n",
      "Confusion matrix: \n",
      "[[1097  116]\n",
      " [  55   10]]\n",
      "\n",
      "Classification report: \n",
      "              precision    recall  f1-score   support\n",
      "\n",
      "           0       0.95      0.90      0.93      1213\n",
      "           1       0.08      0.15      0.10        65\n",
      "\n",
      "    accuracy                           0.87      1278\n",
      "   macro avg       0.52      0.53      0.52      1278\n",
      "weighted avg       0.91      0.87      0.89      1278\n",
      "\n",
      "Accuracy: 0.866, Precision: 0.866, Recall: 0.866, F1-score: 0.866\n",
      "\n",
      "\n"
     ]
    }
   ],
   "source": [
    "model_results = []\n",
    "for name, algorithm in algorithms.items():\n",
    "    start_time = time.time()\n",
    "    results = train_test_model(name, algorithm, X_train, y_train, X_test, y_test)\n",
    "    model_results.append((name, results[\"F1-score\"]))\n",
    "    elapsed_time = round(time.time() - start_time, 2)\n",
    "    print(\"{}\\nDuration: {} seconds\\n\\nConfusion matrix: \\n{}\\n\\nClassification report: \\n{}\\nAccuracy: {}, Precision: {}, Recall: {}, F1-score: {}\\n\\n\".format(name.upper(), elapsed_time, results[\"Confusion matrix\"], results[\"Classification report\"], results[\"Accuracy\"], results[\"Precision\"], results[\"Recall\"], results[\"F1-score\"]))"
   ]
  },
  {
   "cell_type": "markdown",
   "id": "29cb9b59",
   "metadata": {},
   "source": [
    "Improvements: \n",
    "- Apply SMOTE to training data as explained in https://towardsdatascience.com/5-smote-techniques-for-oversampling-your-imbalance-data-b8155bdbe2b5\n",
    "- Apply grid search to various algorithms\n",
    "- Apply OHE to the smoking feature\n",
    "- Create plot with examples in https://www.kaggle.com/siddheshera/stroke-eda-smote-9-models-90-accuracy\n",
    "- Check feature importance in random forest"
   ]
  },
  {
   "cell_type": "code",
   "execution_count": null,
   "id": "c1748e18",
   "metadata": {},
   "outputs": [],
   "source": []
  }
 ],
 "metadata": {
  "kernelspec": {
   "display_name": "Python (py39)",
   "language": "python",
   "name": "py39"
  },
  "language_info": {
   "codemirror_mode": {
    "name": "ipython",
    "version": 3
   },
   "file_extension": ".py",
   "mimetype": "text/x-python",
   "name": "python",
   "nbconvert_exporter": "python",
   "pygments_lexer": "ipython3",
   "version": "3.9.2"
  }
 },
 "nbformat": 4,
 "nbformat_minor": 5
}
